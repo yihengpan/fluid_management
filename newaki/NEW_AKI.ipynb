{
 "cells": [
  {
   "cell_type": "code",
   "execution_count": 28,
   "metadata": {},
   "outputs": [],
   "source": [
    "import pandas as pd\n",
    "chlo = \"chloride.csv\"\n",
    "sofa = \"sofa_pan.csv\"\n",
    "aki = \"aki_final.csv\"\n",
    "\n",
    "sofa = pd.read_csv(sofa)\n",
    "chl = pd.read_csv(chlo)\n",
    "aki = pd.read_csv(aki)"
   ]
  },
  {
   "cell_type": "code",
   "execution_count": 29,
   "metadata": {},
   "outputs": [],
   "source": [
    "aki = aki[['icustay_id', 'day', 'aki_stage']]\n",
    "aki = aki.query('day <= 7')\n",
    "aki = aki.dropna()"
   ]
  },
  {
   "cell_type": "code",
   "execution_count": 30,
   "metadata": {
    "scrolled": true
   },
   "outputs": [
    {
     "name": "stderr",
     "output_type": "stream",
     "text": [
      "/Users/panyiheng/anaconda3/lib/python3.6/site-packages/ipykernel_launcher.py:3: FutureWarning: 'argmin' is deprecated. Use 'idxmin' instead. The behavior of 'argmin' will be corrected to return the positional minimum in the future. Use 'series.values.argmin' to get the position of the minimum now.\n",
      "  This is separate from the ipykernel package so we can avoid doing imports until\n",
      "/Users/panyiheng/anaconda3/lib/python3.6/site-packages/ipykernel_launcher.py:4: FutureWarning: 'argmin' is deprecated. Use 'idxmin' instead. The behavior of 'argmin' will be corrected to return the positional minimum in the future. Use 'series.values.argmin' to get the position of the minimum now.\n",
      "  after removing the cwd from sys.path.\n"
     ]
    }
   ],
   "source": [
    "df = aki.reset_index().groupby('icustay_id').apply( lambda x : \n",
    "                                                   \n",
    "                                                   [x.loc[x['day'].argmin(),'aki_stage']- x['aki_stage'].max(), \n",
    "                                                    x.loc[x['day'].argmin(),'aki_stage']])"
   ]
  },
  {
   "cell_type": "code",
   "execution_count": 31,
   "metadata": {
    "scrolled": false
   },
   "outputs": [],
   "source": [
    "df = pd.DataFrame({'icustay_id':df.index, 'difference':df.values})\n",
    "df[['dif','first']] = pd.DataFrame(df.difference.values.tolist(), index= df.index)\n",
    "df = df.filter(['icustay_id', 'first', 'dif'])"
   ]
  },
  {
   "cell_type": "code",
   "execution_count": 32,
   "metadata": {},
   "outputs": [],
   "source": [
    "df.to_csv('new_aki.csv')"
   ]
  },
  {
   "cell_type": "code",
   "execution_count": null,
   "metadata": {},
   "outputs": [],
   "source": []
  }
 ],
 "metadata": {
  "kernelspec": {
   "display_name": "Python 3",
   "language": "python",
   "name": "python3"
  },
  "language_info": {
   "codemirror_mode": {
    "name": "ipython",
    "version": 3
   },
   "file_extension": ".py",
   "mimetype": "text/x-python",
   "name": "python",
   "nbconvert_exporter": "python",
   "pygments_lexer": "ipython3",
   "version": "3.6.7"
  }
 },
 "nbformat": 4,
 "nbformat_minor": 2
}
