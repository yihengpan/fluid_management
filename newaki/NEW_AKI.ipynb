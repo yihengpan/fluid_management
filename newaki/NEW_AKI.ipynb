{
 "cells": [
  {
   "cell_type": "code",
   "execution_count": 2,
   "metadata": {},
   "outputs": [],
   "source": [
    "import pandas as pd\n",
    "chlo = \"chloride.csv\"\n",
    "sofa = \"sofa_pan.csv\"\n",
    "aki = \"aki_final.csv\"\n",
    "\n",
    "sofa = pd.read_csv(sofa)\n",
    "chl = pd.read_csv(chlo)\n",
    "aki = pd.read_csv(aki)"
   ]
  },
  {
   "cell_type": "code",
   "execution_count": 3,
   "metadata": {},
   "outputs": [
    {
     "data": {
      "text/html": [
       "<div>\n",
       "<style scoped>\n",
       "    .dataframe tbody tr th:only-of-type {\n",
       "        vertical-align: middle;\n",
       "    }\n",
       "\n",
       "    .dataframe tbody tr th {\n",
       "        vertical-align: top;\n",
       "    }\n",
       "\n",
       "    .dataframe thead th {\n",
       "        text-align: right;\n",
       "    }\n",
       "</style>\n",
       "<table border=\"1\" class=\"dataframe\">\n",
       "  <thead>\n",
       "    <tr style=\"text-align: right;\">\n",
       "      <th></th>\n",
       "      <th>icustay_id</th>\n",
       "      <th>day</th>\n",
       "      <th>aki_stage</th>\n",
       "    </tr>\n",
       "  </thead>\n",
       "  <tbody>\n",
       "    <tr>\n",
       "      <th>0</th>\n",
       "      <td>200001</td>\n",
       "      <td>1.0</td>\n",
       "      <td>3.0</td>\n",
       "    </tr>\n",
       "    <tr>\n",
       "      <th>1</th>\n",
       "      <td>200001</td>\n",
       "      <td>2.0</td>\n",
       "      <td>3.0</td>\n",
       "    </tr>\n",
       "    <tr>\n",
       "      <th>2</th>\n",
       "      <td>200001</td>\n",
       "      <td>3.0</td>\n",
       "      <td>3.0</td>\n",
       "    </tr>\n",
       "    <tr>\n",
       "      <th>4</th>\n",
       "      <td>200003</td>\n",
       "      <td>1.0</td>\n",
       "      <td>0.0</td>\n",
       "    </tr>\n",
       "    <tr>\n",
       "      <th>5</th>\n",
       "      <td>200003</td>\n",
       "      <td>2.0</td>\n",
       "      <td>0.0</td>\n",
       "    </tr>\n",
       "  </tbody>\n",
       "</table>\n",
       "</div>"
      ],
      "text/plain": [
       "   icustay_id  day  aki_stage\n",
       "0      200001  1.0        3.0\n",
       "1      200001  2.0        3.0\n",
       "2      200001  3.0        3.0\n",
       "4      200003  1.0        0.0\n",
       "5      200003  2.0        0.0"
      ]
     },
     "execution_count": 3,
     "metadata": {},
     "output_type": "execute_result"
    }
   ],
   "source": [
    "aki = aki[['icustay_id', 'day', 'aki_stage']]\n",
    "aki = aki.dropna()\n",
    "aki.head()"
   ]
  },
  {
   "cell_type": "code",
   "execution_count": 4,
   "metadata": {
    "scrolled": false
   },
   "outputs": [
    {
     "name": "stderr",
     "output_type": "stream",
     "text": [
      "/Users/panyiheng/anaconda3/lib/python3.6/site-packages/ipykernel_launcher.py:3: FutureWarning: 'argmin' is deprecated. Use 'idxmin' instead. The behavior of 'argmin' will be corrected to return the positional minimum in the future. Use 'series.values.argmin' to get the position of the minimum now.\n",
      "  This is separate from the ipykernel package so we can avoid doing imports until\n"
     ]
    }
   ],
   "source": [
    "df = aki.reset_index().groupby('icustay_id').apply( lambda x: \n",
    "                                                   \n",
    "                                                   x.loc[x['day'].argmin(),'aki_stage']- x['aki_stage'].max()                                              )"
   ]
  },
  {
   "cell_type": "code",
   "execution_count": 5,
   "metadata": {
    "scrolled": true
   },
   "outputs": [
    {
     "data": {
      "text/plain": [
       "icustay_id\n",
       "200001    0.0\n",
       "200003   -3.0\n",
       "200006   -1.0\n",
       "200007    0.0\n",
       "200009   -2.0\n",
       "200010    0.0\n",
       "200011    0.0\n",
       "200012    0.0\n",
       "200014    0.0\n",
       "200016    0.0\n",
       "200019   -1.0\n",
       "200021    0.0\n",
       "200025   -1.0\n",
       "200028   -2.0\n",
       "200029    0.0\n",
       "200030   -3.0\n",
       "200033   -3.0\n",
       "200034   -3.0\n",
       "200035   -3.0\n",
       "200036   -1.0\n",
       "200038    0.0\n",
       "200039    0.0\n",
       "200040    0.0\n",
       "200041   -3.0\n",
       "200044    0.0\n",
       "200045   -3.0\n",
       "200047    0.0\n",
       "200049    0.0\n",
       "200050    0.0\n",
       "200052   -3.0\n",
       "         ... \n",
       "299948   -2.0\n",
       "299949    0.0\n",
       "299950   -3.0\n",
       "299951   -3.0\n",
       "299954    0.0\n",
       "299955    0.0\n",
       "299956   -1.0\n",
       "299957   -3.0\n",
       "299960    0.0\n",
       "299961   -1.0\n",
       "299962    0.0\n",
       "299964    0.0\n",
       "299967   -2.0\n",
       "299969    0.0\n",
       "299971    0.0\n",
       "299972   -1.0\n",
       "299973    0.0\n",
       "299976   -3.0\n",
       "299979   -3.0\n",
       "299981   -3.0\n",
       "299984   -1.0\n",
       "299986    0.0\n",
       "299987    0.0\n",
       "299988   -3.0\n",
       "299992   -3.0\n",
       "299993    0.0\n",
       "299994    0.0\n",
       "299995    0.0\n",
       "299998   -2.0\n",
       "299999    0.0\n",
       "Length: 51138, dtype: float64"
      ]
     },
     "execution_count": 5,
     "metadata": {},
     "output_type": "execute_result"
    }
   ],
   "source": [
    "df"
   ]
  },
  {
   "cell_type": "code",
   "execution_count": 6,
   "metadata": {
    "scrolled": true
   },
   "outputs": [],
   "source": [
    "df = pd.DataFrame({'icustay_id':df.index, 'label':df.values})"
   ]
  },
  {
   "cell_type": "code",
   "execution_count": 7,
   "metadata": {},
   "outputs": [],
   "source": [
    "df.to_csv('new_aki.csv')"
   ]
  },
  {
   "cell_type": "code",
   "execution_count": null,
   "metadata": {},
   "outputs": [],
   "source": []
  }
 ],
 "metadata": {
  "kernelspec": {
   "display_name": "Python 3",
   "language": "python",
   "name": "python3"
  },
  "language_info": {
   "codemirror_mode": {
    "name": "ipython",
    "version": 3
   },
   "file_extension": ".py",
   "mimetype": "text/x-python",
   "name": "python",
   "nbconvert_exporter": "python",
   "pygments_lexer": "ipython3",
   "version": "3.6.7"
  }
 },
 "nbformat": 4,
 "nbformat_minor": 2
}
