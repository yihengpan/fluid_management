{
 "cells": [
  {
   "cell_type": "code",
   "execution_count": 68,
   "metadata": {
    "scrolled": true
   },
   "outputs": [],
   "source": [
    "import numpy as np\n",
    "import pandas as pd\n",
    "import statsmodels.api as sm\n",
    "\n",
    "from IPython.display import display\n",
    "from scipy.stats import chi2_contingency, kruskal\n",
    "\n",
    "pd.options.display.precision = 3"
   ]
  },
  {
   "cell_type": "markdown",
   "metadata": {},
   "source": [
    "## Load useful Dataframes"
   ]
  },
  {
   "cell_type": "code",
   "execution_count": 69,
   "metadata": {
    "scrolled": true
   },
   "outputs": [],
   "source": [
    "# Chloride load\n",
    "df = pd.read_csv('chloride.csv')\n",
    "df = df.set_index(['subject_id', 'hadm_id', 'icustay_id'])\n",
    "df = df.filter(['icu_day', 'chloride_input_meq'])\n",
    "df = df.dropna(subset = ['chloride_input_meq'])\n",
    "df = df.query('icu_day <= 3')\n",
    "\n",
    "# Average Chloride load of first 3 days\n",
    "df_chloride = df.filter(['chloride_input_meq'])\n",
    "df_chloride = df_chloride.groupby(['subject_id', 'hadm_id', 'icustay_id']).mean()\n",
    "df_chloride.head()\n",
    "\n",
    "# SOFA score on admission (day 1)\n",
    "df = pd.read_csv('sofa_pan.csv')\n",
    "df = df.set_index(['subject_id', 'hadm_id', 'icustay_id'])\n",
    "df = df.filter(['day', 'sofa'])\n",
    "df = df.query('day == 1')\n",
    "df_sofa = df.filter(['sofa'])\n",
    "\n",
    "# Demographic values\n",
    "df = pd.read_csv('patient_info.csv')\n",
    "df = df.set_index(['subject_id', 'hadm_id', 'icustay_id'])\n",
    "df_dem = df.filter(['ethnicity', 'gender','age'])\n",
    "\n",
    "# ICU mortality\n",
    "df = pd.read_csv('icu_mort.csv')\n",
    "df = df.set_index(['subject_id', 'hadm_id', 'icustay_id'])\n",
    "df = df.filter(['intime', 'outtime', 'in_icu_mort'])\n",
    "df = df.dropna(subset = ['intime', 'outtime'])\n",
    "df['LOS'] = (pd.to_datetime(df['outtime']) - pd.to_datetime(df['intime'])).dt.days\n",
    "df_mort = df.filter(['LOS', 'in_icu_mort'])  # need LOS for MODS calculation\n",
    "\n",
    "# MODS on day 7\n",
    "sofa_subscores = ['cardiovascular', 'cns', 'coagulation', 'liver', 'renal', 'respiration']\n",
    "df = pd.read_csv('sofa_pan.csv')\n",
    "df = df.set_index(['subject_id', 'hadm_id', 'icustay_id'])\n",
    "df = df.filter(['day'] + sofa_subscores)\n",
    "df = df.query('day == 7')\n",
    "df['od_sum'] = sum((df[subscore] > 1).astype(int) for subscore in sofa_subscores)\n",
    "df = df.filter(['od_sum'])\n",
    "df = df.join(df_mort, how='inner')\n",
    "df['mods'] = ((df['od_sum'] > 1) | ((df['LOS'] < 7) & (df['in_icu_mort'] == 1))).astype(int)\n",
    "df_mods = df.filter(['mods'])\n",
    "\n",
    "df_mort = df_mort.filter(['in_icu_mort'])\n",
    "\n",
    "# New AKI\n",
    "df = pd.read_csv('new_aki.csv')\n",
    "df = pd.read_csv('new_aki.csv')\n",
    "df['new'] = df.apply(lambda row: 1 if row['label'] < 0 else 0, axis=1)\n",
    "df_aki = df.filter(['icustay_id', 'new'])"
   ]
  },
  {
   "cell_type": "markdown",
   "metadata": {},
   "source": [
    "## Define useful functions"
   ]
  },
  {
   "cell_type": "code",
   "execution_count": 70,
   "metadata": {},
   "outputs": [],
   "source": [
    "def run_kruskal(df_neg, df_pos):\n",
    "    \"\"\"Display results of a Kruskal-Wallis H test.\n",
    "    \n",
    "    @param df_neg: DataFrame containing the negative samples\n",
    "    @param df_pos: DataFrame containing the positive samples\n",
    "    \"\"\"\n",
    "    summary = pd.concat([df_neg.describe(), df_pos.describe()], axis=1)\n",
    "    summary.columns = ['(-)', '(+)']\n",
    "    display(summary)\n",
    "    print (kruskal(df_neg, df_pos))\n",
    "\n",
    "def run_chi2(index, columns):\n",
    "    \"\"\"Display results of a chi-square test of independence.\n",
    "    \n",
    "    @param index: Values to group by in the rows\n",
    "    @param columns: Values to group by in the columns\n",
    "    \"\"\"\n",
    "    print (\"Chi-square test of independence with Yates' continuity correction\")\n",
    "    c_table = pd.crosstab(index, columns)\n",
    "    display(c_table)\n",
    "    chi2, p, dof, expected = chi2_contingency(c_table)  # correction=True (Yates' correction)\n",
    "    print (\"X-squared = %s\" % chi2)\n",
    "    print (\"dof       = %s\" % dof)\n",
    "    print (\"p-value   = %s\" % p)\n",
    "\n",
    "def run_glm(df):\n",
    "    \"\"\"Display results (odds ratios) of a GLM regression.\n",
    "\n",
    "    @param df: DataFrame with columns [exog1, exog2, ..., endog]\n",
    "    \"\"\"\n",
    "    endog = df[df.columns[-1]]\n",
    "    exog = sm.add_constant(df[df.columns[:-1]])\n",
    "    glm = sm.GLM(endog, exog, family=sm.families.Binomial())  # == sm.Logit(endog, exog)\n",
    "    result = glm.fit()\n",
    "    print (result.summary())\n",
    "\n",
    "    odds = pd.concat([result.params, result.conf_int()], axis=1)[1:]  # toss const (first row)\n",
    "    odds.columns = ['Odds Ratio', '2.5%', '97.5%']\n",
    "    display(np.exp(odds))\n",
    "    "
   ]
  },
  {
   "cell_type": "markdown",
   "metadata": {},
   "source": [
    "# 2a(1): Chloride input amout and Mortality"
   ]
  },
  {
   "cell_type": "code",
   "execution_count": 71,
   "metadata": {},
   "outputs": [],
   "source": [
    "df_combined = df_chloride.join(df_sofa, how='inner').join(df_mort, how='inner')"
   ]
  },
  {
   "cell_type": "markdown",
   "metadata": {},
   "source": [
    "## -Univariate association"
   ]
  },
  {
   "cell_type": "code",
   "execution_count": 72,
   "metadata": {
    "scrolled": true
   },
   "outputs": [
    {
     "data": {
      "text/html": [
       "<div>\n",
       "<style scoped>\n",
       "    .dataframe tbody tr th:only-of-type {\n",
       "        vertical-align: middle;\n",
       "    }\n",
       "\n",
       "    .dataframe tbody tr th {\n",
       "        vertical-align: top;\n",
       "    }\n",
       "\n",
       "    .dataframe thead th {\n",
       "        text-align: right;\n",
       "    }\n",
       "</style>\n",
       "<table border=\"1\" class=\"dataframe\">\n",
       "  <thead>\n",
       "    <tr style=\"text-align: right;\">\n",
       "      <th></th>\n",
       "      <th>(-)</th>\n",
       "      <th>(+)</th>\n",
       "    </tr>\n",
       "  </thead>\n",
       "  <tbody>\n",
       "    <tr>\n",
       "      <th>count</th>\n",
       "      <td>41688.000</td>\n",
       "      <td>3572.000</td>\n",
       "    </tr>\n",
       "    <tr>\n",
       "      <th>mean</th>\n",
       "      <td>205.583</td>\n",
       "      <td>286.807</td>\n",
       "    </tr>\n",
       "    <tr>\n",
       "      <th>std</th>\n",
       "      <td>166.307</td>\n",
       "      <td>277.530</td>\n",
       "    </tr>\n",
       "    <tr>\n",
       "      <th>min</th>\n",
       "      <td>0.036</td>\n",
       "      <td>0.051</td>\n",
       "    </tr>\n",
       "    <tr>\n",
       "      <th>25%</th>\n",
       "      <td>89.041</td>\n",
       "      <td>100.829</td>\n",
       "    </tr>\n",
       "    <tr>\n",
       "      <th>50%</th>\n",
       "      <td>172.608</td>\n",
       "      <td>214.369</td>\n",
       "    </tr>\n",
       "    <tr>\n",
       "      <th>75%</th>\n",
       "      <td>279.972</td>\n",
       "      <td>382.966</td>\n",
       "    </tr>\n",
       "    <tr>\n",
       "      <th>max</th>\n",
       "      <td>6742.801</td>\n",
       "      <td>3893.103</td>\n",
       "    </tr>\n",
       "  </tbody>\n",
       "</table>\n",
       "</div>"
      ],
      "text/plain": [
       "             (-)       (+)\n",
       "count  41688.000  3572.000\n",
       "mean     205.583   286.807\n",
       "std      166.307   277.530\n",
       "min        0.036     0.051\n",
       "25%       89.041   100.829\n",
       "50%      172.608   214.369\n",
       "75%      279.972   382.966\n",
       "max     6742.801  3893.103"
      ]
     },
     "metadata": {},
     "output_type": "display_data"
    },
    {
     "name": "stdout",
     "output_type": "stream",
     "text": [
      "KruskalResult(statistic=247.5003629164961, pvalue=9.107388395717572e-56)\n"
     ]
    }
   ],
   "source": [
    "run_kruskal(df_combined.query('in_icu_mort == 0').filter(['chloride_input_meq']),\n",
    "            df_combined.query('in_icu_mort == 1').filter(['chloride_input_meq']))"
   ]
  },
  {
   "cell_type": "markdown",
   "metadata": {},
   "source": [
    "## - Independent association adjusted for day 1 SOFA"
   ]
  },
  {
   "cell_type": "code",
   "execution_count": 73,
   "metadata": {},
   "outputs": [
    {
     "name": "stdout",
     "output_type": "stream",
     "text": [
      "                 Generalized Linear Model Regression Results                  \n",
      "==============================================================================\n",
      "Dep. Variable:            in_icu_mort   No. Observations:                45260\n",
      "Model:                            GLM   Df Residuals:                    45257\n",
      "Model Family:                Binomial   Df Model:                            2\n",
      "Link Function:                  logit   Scale:                             1.0\n",
      "Method:                          IRLS   Log-Likelihood:                -10965.\n",
      "Date:                Wed, 13 Mar 2019   Deviance:                       21930.\n",
      "Time:                        14:37:50   Pearson chi2:                 4.66e+04\n",
      "No. Iterations:                     6                                         \n",
      "======================================================================================\n",
      "                         coef    std err          z      P>|z|      [0.025      0.975]\n",
      "--------------------------------------------------------------------------------------\n",
      "const                 -3.9643      0.039   -102.167      0.000      -4.040      -3.888\n",
      "chloride_input_meq     0.0010    8.4e-05     11.476      0.000       0.001       0.001\n",
      "sofa                   0.2572      0.005     49.711      0.000       0.247       0.267\n",
      "======================================================================================\n"
     ]
    },
    {
     "data": {
      "text/html": [
       "<div>\n",
       "<style scoped>\n",
       "    .dataframe tbody tr th:only-of-type {\n",
       "        vertical-align: middle;\n",
       "    }\n",
       "\n",
       "    .dataframe tbody tr th {\n",
       "        vertical-align: top;\n",
       "    }\n",
       "\n",
       "    .dataframe thead th {\n",
       "        text-align: right;\n",
       "    }\n",
       "</style>\n",
       "<table border=\"1\" class=\"dataframe\">\n",
       "  <thead>\n",
       "    <tr style=\"text-align: right;\">\n",
       "      <th></th>\n",
       "      <th>Odds Ratio</th>\n",
       "      <th>2.5%</th>\n",
       "      <th>97.5%</th>\n",
       "    </tr>\n",
       "  </thead>\n",
       "  <tbody>\n",
       "    <tr>\n",
       "      <th>chloride_input_meq</th>\n",
       "      <td>1.001</td>\n",
       "      <td>1.001</td>\n",
       "      <td>1.001</td>\n",
       "    </tr>\n",
       "    <tr>\n",
       "      <th>sofa</th>\n",
       "      <td>1.293</td>\n",
       "      <td>1.280</td>\n",
       "      <td>1.306</td>\n",
       "    </tr>\n",
       "  </tbody>\n",
       "</table>\n",
       "</div>"
      ],
      "text/plain": [
       "                    Odds Ratio   2.5%  97.5%\n",
       "chloride_input_meq       1.001  1.001  1.001\n",
       "sofa                     1.293  1.280  1.306"
      ]
     },
     "metadata": {},
     "output_type": "display_data"
    }
   ],
   "source": [
    "run_glm(df_combined)"
   ]
  },
  {
   "cell_type": "markdown",
   "metadata": {},
   "source": [
    "# 2a(2): Chloride input amount and MODS on Day 7"
   ]
  },
  {
   "cell_type": "code",
   "execution_count": 74,
   "metadata": {},
   "outputs": [],
   "source": [
    "df_combined = df_chloride.join(df_sofa, how='inner').join(df_mods, how='left')\n",
    "df_combined = df_combined.fillna({'mods':0})"
   ]
  },
  {
   "cell_type": "markdown",
   "metadata": {},
   "source": [
    "## - Univariate association"
   ]
  },
  {
   "cell_type": "code",
   "execution_count": 75,
   "metadata": {
    "scrolled": true
   },
   "outputs": [
    {
     "data": {
      "text/html": [
       "<div>\n",
       "<style scoped>\n",
       "    .dataframe tbody tr th:only-of-type {\n",
       "        vertical-align: middle;\n",
       "    }\n",
       "\n",
       "    .dataframe tbody tr th {\n",
       "        vertical-align: top;\n",
       "    }\n",
       "\n",
       "    .dataframe thead th {\n",
       "        text-align: right;\n",
       "    }\n",
       "</style>\n",
       "<table border=\"1\" class=\"dataframe\">\n",
       "  <thead>\n",
       "    <tr style=\"text-align: right;\">\n",
       "      <th></th>\n",
       "      <th>(-)</th>\n",
       "      <th>(+)</th>\n",
       "    </tr>\n",
       "  </thead>\n",
       "  <tbody>\n",
       "    <tr>\n",
       "      <th>count</th>\n",
       "      <td>46526.000</td>\n",
       "      <td>1843.000</td>\n",
       "    </tr>\n",
       "    <tr>\n",
       "      <th>mean</th>\n",
       "      <td>207.160</td>\n",
       "      <td>278.512</td>\n",
       "    </tr>\n",
       "    <tr>\n",
       "      <th>std</th>\n",
       "      <td>176.135</td>\n",
       "      <td>230.175</td>\n",
       "    </tr>\n",
       "    <tr>\n",
       "      <th>min</th>\n",
       "      <td>0.031</td>\n",
       "      <td>0.885</td>\n",
       "    </tr>\n",
       "    <tr>\n",
       "      <th>25%</th>\n",
       "      <td>86.240</td>\n",
       "      <td>106.553</td>\n",
       "    </tr>\n",
       "    <tr>\n",
       "      <th>50%</th>\n",
       "      <td>171.135</td>\n",
       "      <td>217.413</td>\n",
       "    </tr>\n",
       "    <tr>\n",
       "      <th>75%</th>\n",
       "      <td>280.944</td>\n",
       "      <td>389.504</td>\n",
       "    </tr>\n",
       "    <tr>\n",
       "      <th>max</th>\n",
       "      <td>6742.801</td>\n",
       "      <td>1997.461</td>\n",
       "    </tr>\n",
       "  </tbody>\n",
       "</table>\n",
       "</div>"
      ],
      "text/plain": [
       "             (-)       (+)\n",
       "count  46526.000  1843.000\n",
       "mean     207.160   278.512\n",
       "std      176.135   230.175\n",
       "min        0.031     0.885\n",
       "25%       86.240   106.553\n",
       "50%      171.135   217.413\n",
       "75%      280.944   389.504\n",
       "max     6742.801  1997.461"
      ]
     },
     "metadata": {},
     "output_type": "display_data"
    },
    {
     "name": "stdout",
     "output_type": "stream",
     "text": [
      "KruskalResult(statistic=163.34662172803073, pvalue=2.1013458664139814e-37)\n"
     ]
    }
   ],
   "source": [
    "run_kruskal(df_combined.query('mods == 0').filter(['chloride_input_meq']),\n",
    "            df_combined.query('mods == 1').filter(['chloride_input_meq']))"
   ]
  },
  {
   "cell_type": "markdown",
   "metadata": {},
   "source": [
    "## - Independent association adjusted for day 1 SOFA"
   ]
  },
  {
   "cell_type": "code",
   "execution_count": 76,
   "metadata": {},
   "outputs": [
    {
     "name": "stdout",
     "output_type": "stream",
     "text": [
      "                 Generalized Linear Model Regression Results                  \n",
      "==============================================================================\n",
      "Dep. Variable:                   mods   No. Observations:                48369\n",
      "Model:                            GLM   Df Residuals:                    48366\n",
      "Model Family:                Binomial   Df Model:                            2\n",
      "Link Function:                  logit   Scale:                             1.0\n",
      "Method:                          IRLS   Log-Likelihood:                -6775.2\n",
      "Date:                Wed, 13 Mar 2019   Deviance:                       13550.\n",
      "Time:                        14:37:52   Pearson chi2:                 4.35e+04\n",
      "No. Iterations:                     7                                         \n",
      "======================================================================================\n",
      "                         coef    std err          z      P>|z|      [0.025      0.975]\n",
      "--------------------------------------------------------------------------------------\n",
      "const                 -4.8340      0.052    -93.304      0.000      -4.936      -4.732\n",
      "chloride_input_meq     0.0004      0.000      4.058      0.000       0.000       0.001\n",
      "sofa                   0.2787      0.006     44.048      0.000       0.266       0.291\n",
      "======================================================================================\n"
     ]
    },
    {
     "data": {
      "text/html": [
       "<div>\n",
       "<style scoped>\n",
       "    .dataframe tbody tr th:only-of-type {\n",
       "        vertical-align: middle;\n",
       "    }\n",
       "\n",
       "    .dataframe tbody tr th {\n",
       "        vertical-align: top;\n",
       "    }\n",
       "\n",
       "    .dataframe thead th {\n",
       "        text-align: right;\n",
       "    }\n",
       "</style>\n",
       "<table border=\"1\" class=\"dataframe\">\n",
       "  <thead>\n",
       "    <tr style=\"text-align: right;\">\n",
       "      <th></th>\n",
       "      <th>Odds Ratio</th>\n",
       "      <th>2.5%</th>\n",
       "      <th>97.5%</th>\n",
       "    </tr>\n",
       "  </thead>\n",
       "  <tbody>\n",
       "    <tr>\n",
       "      <th>chloride_input_meq</th>\n",
       "      <td>1.000</td>\n",
       "      <td>1.000</td>\n",
       "      <td>1.001</td>\n",
       "    </tr>\n",
       "    <tr>\n",
       "      <th>sofa</th>\n",
       "      <td>1.321</td>\n",
       "      <td>1.305</td>\n",
       "      <td>1.338</td>\n",
       "    </tr>\n",
       "  </tbody>\n",
       "</table>\n",
       "</div>"
      ],
      "text/plain": [
       "                    Odds Ratio   2.5%  97.5%\n",
       "chloride_input_meq       1.000  1.000  1.001\n",
       "sofa                     1.321  1.305  1.338"
      ]
     },
     "metadata": {},
     "output_type": "display_data"
    }
   ],
   "source": [
    "run_glm(df_combined)"
   ]
  },
  {
   "cell_type": "markdown",
   "metadata": {},
   "source": [
    "# 2a(3): Chloride input amount and NEW AKI"
   ]
  },
  {
   "cell_type": "code",
   "execution_count": 77,
   "metadata": {},
   "outputs": [],
   "source": [
    "df_combined = df_chloride.join(df_sofa, how='inner').reset_index().merge(df_aki, on = 'icustay_id')\n",
    "df_combined = df_combined.set_index(['subject_id', 'hadm_id', 'icustay_id'])"
   ]
  },
  {
   "cell_type": "markdown",
   "metadata": {},
   "source": [
    "## - Univariate association"
   ]
  },
  {
   "cell_type": "code",
   "execution_count": 78,
   "metadata": {},
   "outputs": [
    {
     "data": {
      "text/html": [
       "<div>\n",
       "<style scoped>\n",
       "    .dataframe tbody tr th:only-of-type {\n",
       "        vertical-align: middle;\n",
       "    }\n",
       "\n",
       "    .dataframe tbody tr th {\n",
       "        vertical-align: top;\n",
       "    }\n",
       "\n",
       "    .dataframe thead th {\n",
       "        text-align: right;\n",
       "    }\n",
       "</style>\n",
       "<table border=\"1\" class=\"dataframe\">\n",
       "  <thead>\n",
       "    <tr style=\"text-align: right;\">\n",
       "      <th></th>\n",
       "      <th>(-)</th>\n",
       "      <th>(+)</th>\n",
       "    </tr>\n",
       "  </thead>\n",
       "  <tbody>\n",
       "    <tr>\n",
       "      <th>count</th>\n",
       "      <td>16819.000</td>\n",
       "      <td>31550.000</td>\n",
       "    </tr>\n",
       "    <tr>\n",
       "      <th>mean</th>\n",
       "      <td>199.663</td>\n",
       "      <td>215.325</td>\n",
       "    </tr>\n",
       "    <tr>\n",
       "      <th>std</th>\n",
       "      <td>175.412</td>\n",
       "      <td>180.670</td>\n",
       "    </tr>\n",
       "    <tr>\n",
       "      <th>min</th>\n",
       "      <td>0.031</td>\n",
       "      <td>0.282</td>\n",
       "    </tr>\n",
       "    <tr>\n",
       "      <th>25%</th>\n",
       "      <td>81.985</td>\n",
       "      <td>89.795</td>\n",
       "    </tr>\n",
       "    <tr>\n",
       "      <th>50%</th>\n",
       "      <td>162.690</td>\n",
       "      <td>178.130</td>\n",
       "    </tr>\n",
       "    <tr>\n",
       "      <th>75%</th>\n",
       "      <td>267.193</td>\n",
       "      <td>292.685</td>\n",
       "    </tr>\n",
       "    <tr>\n",
       "      <th>max</th>\n",
       "      <td>3150.200</td>\n",
       "      <td>6742.801</td>\n",
       "    </tr>\n",
       "  </tbody>\n",
       "</table>\n",
       "</div>"
      ],
      "text/plain": [
       "             (-)        (+)\n",
       "count  16819.000  31550.000\n",
       "mean     199.663    215.325\n",
       "std      175.412    180.670\n",
       "min        0.031      0.282\n",
       "25%       81.985     89.795\n",
       "50%      162.690    178.130\n",
       "75%      267.193    292.685\n",
       "max     3150.200   6742.801"
      ]
     },
     "metadata": {},
     "output_type": "display_data"
    },
    {
     "name": "stdout",
     "output_type": "stream",
     "text": [
      "KruskalResult(statistic=119.95090365136603, pvalue=6.484588899544113e-28)\n"
     ]
    }
   ],
   "source": [
    "run_kruskal(df_combined.query('new == 0').filter(['chloride_input_meq']),\n",
    "            df_combined.query('new == 1').filter(['chloride_input_meq']))"
   ]
  },
  {
   "cell_type": "markdown",
   "metadata": {},
   "source": [
    "## - Independent association adjusted for day 1 SOFA"
   ]
  },
  {
   "cell_type": "code",
   "execution_count": 79,
   "metadata": {},
   "outputs": [
    {
     "name": "stdout",
     "output_type": "stream",
     "text": [
      "                 Generalized Linear Model Regression Results                  \n",
      "==============================================================================\n",
      "Dep. Variable:                    new   No. Observations:                48369\n",
      "Model:                            GLM   Df Residuals:                    48366\n",
      "Model Family:                Binomial   Df Model:                            2\n",
      "Link Function:                  logit   Scale:                             1.0\n",
      "Method:                          IRLS   Log-Likelihood:                -29872.\n",
      "Date:                Wed, 13 Mar 2019   Deviance:                       59743.\n",
      "Time:                        14:37:55   Pearson chi2:                 4.92e+04\n",
      "No. Iterations:                     4                                         \n",
      "======================================================================================\n",
      "                         coef    std err          z      P>|z|      [0.025      0.975]\n",
      "--------------------------------------------------------------------------------------\n",
      "const                 -0.0617      0.019     -3.203      0.001      -0.100      -0.024\n",
      "chloride_input_meq  6.208e-05   5.93e-05      1.048      0.295   -5.41e-05       0.000\n",
      "sofa                   0.1862      0.004     47.735      0.000       0.179       0.194\n",
      "======================================================================================\n"
     ]
    },
    {
     "data": {
      "text/html": [
       "<div>\n",
       "<style scoped>\n",
       "    .dataframe tbody tr th:only-of-type {\n",
       "        vertical-align: middle;\n",
       "    }\n",
       "\n",
       "    .dataframe tbody tr th {\n",
       "        vertical-align: top;\n",
       "    }\n",
       "\n",
       "    .dataframe thead th {\n",
       "        text-align: right;\n",
       "    }\n",
       "</style>\n",
       "<table border=\"1\" class=\"dataframe\">\n",
       "  <thead>\n",
       "    <tr style=\"text-align: right;\">\n",
       "      <th></th>\n",
       "      <th>Odds Ratio</th>\n",
       "      <th>2.5%</th>\n",
       "      <th>97.5%</th>\n",
       "    </tr>\n",
       "  </thead>\n",
       "  <tbody>\n",
       "    <tr>\n",
       "      <th>chloride_input_meq</th>\n",
       "      <td>1.000</td>\n",
       "      <td>1.000</td>\n",
       "      <td>1.000</td>\n",
       "    </tr>\n",
       "    <tr>\n",
       "      <th>sofa</th>\n",
       "      <td>1.205</td>\n",
       "      <td>1.196</td>\n",
       "      <td>1.214</td>\n",
       "    </tr>\n",
       "  </tbody>\n",
       "</table>\n",
       "</div>"
      ],
      "text/plain": [
       "                    Odds Ratio   2.5%  97.5%\n",
       "chloride_input_meq       1.000  1.000  1.000\n",
       "sofa                     1.205  1.196  1.214"
      ]
     },
     "metadata": {},
     "output_type": "display_data"
    }
   ],
   "source": [
    "run_glm(df_combined)"
   ]
  },
  {
   "cell_type": "code",
   "execution_count": null,
   "metadata": {},
   "outputs": [],
   "source": []
  }
 ],
 "metadata": {
  "kernelspec": {
   "display_name": "Python 3",
   "language": "python",
   "name": "python3"
  },
  "language_info": {
   "codemirror_mode": {
    "name": "ipython",
    "version": 3
   },
   "file_extension": ".py",
   "mimetype": "text/x-python",
   "name": "python",
   "nbconvert_exporter": "python",
   "pygments_lexer": "ipython3",
   "version": "3.6.4"
  }
 },
 "nbformat": 4,
 "nbformat_minor": 2
}
