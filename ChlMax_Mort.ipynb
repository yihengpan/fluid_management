{
 "cells": [
  {
   "cell_type": "code",
   "execution_count": 1,
   "metadata": {},
   "outputs": [],
   "source": [
    "import pandas as pd\n",
    "chlo = \"chloride.csv\"\n",
    "sofa = \"sofa_pan.csv\"\n",
    "mort = \"icu_mort.csv\"\n",
    "\n",
    "sofa = pd.read_csv(sofa)\n",
    "chl = pd.read_csv(chlo)\n",
    "mor = pd.read_csv(mort)"
   ]
  },
  {
   "cell_type": "code",
   "execution_count": 2,
   "metadata": {},
   "outputs": [],
   "source": [
    "mordf = mor[['icustay_id','in_icu_mort']]"
   ]
  },
  {
   "cell_type": "code",
   "execution_count": 4,
   "metadata": {},
   "outputs": [],
   "source": [
    "chldf = chl[['icustay_id','icu_day','chloride_max']]\n",
    "\n",
    "# chloride max level in 7 days\n",
    "chldf = chldf[chldf['icu_day']<=7]\n",
    "idx = chldf.groupby(['icustay_id'])['chloride_max'].transform(max) == chldf['chloride_max']\n",
    "df = chldf[idx][['icustay_id','chloride_max']]\n"
   ]
  },
  {
   "cell_type": "code",
   "execution_count": 5,
   "metadata": {},
   "outputs": [
    {
     "data": {
      "text/html": [
       "<div>\n",
       "<style scoped>\n",
       "    .dataframe tbody tr th:only-of-type {\n",
       "        vertical-align: middle;\n",
       "    }\n",
       "\n",
       "    .dataframe tbody tr th {\n",
       "        vertical-align: top;\n",
       "    }\n",
       "\n",
       "    .dataframe thead th {\n",
       "        text-align: right;\n",
       "    }\n",
       "</style>\n",
       "<table border=\"1\" class=\"dataframe\">\n",
       "  <thead>\n",
       "    <tr style=\"text-align: right;\">\n",
       "      <th></th>\n",
       "      <th>icustay_id</th>\n",
       "      <th>day</th>\n",
       "      <th>sofa</th>\n",
       "    </tr>\n",
       "  </thead>\n",
       "  <tbody>\n",
       "    <tr>\n",
       "      <th>0</th>\n",
       "      <td>211552</td>\n",
       "      <td>1.0</td>\n",
       "      <td>7</td>\n",
       "    </tr>\n",
       "    <tr>\n",
       "      <th>6</th>\n",
       "      <td>294638</td>\n",
       "      <td>1.0</td>\n",
       "      <td>2</td>\n",
       "    </tr>\n",
       "    <tr>\n",
       "      <th>8</th>\n",
       "      <td>228232</td>\n",
       "      <td>1.0</td>\n",
       "      <td>4</td>\n",
       "    </tr>\n",
       "    <tr>\n",
       "      <th>12</th>\n",
       "      <td>220597</td>\n",
       "      <td>1.0</td>\n",
       "      <td>5</td>\n",
       "    </tr>\n",
       "    <tr>\n",
       "      <th>18</th>\n",
       "      <td>229441</td>\n",
       "      <td>1.0</td>\n",
       "      <td>2</td>\n",
       "    </tr>\n",
       "  </tbody>\n",
       "</table>\n",
       "</div>"
      ],
      "text/plain": [
       "    icustay_id  day  sofa\n",
       "0       211552  1.0     7\n",
       "6       294638  1.0     2\n",
       "8       228232  1.0     4\n",
       "12      220597  1.0     5\n",
       "18      229441  1.0     2"
      ]
     },
     "execution_count": 5,
     "metadata": {},
     "output_type": "execute_result"
    }
   ],
   "source": [
    "sofadf = sofa[['icustay_id','day','sofa']]\n",
    "sofadf = sofadf[sofadf['day']==1]\n",
    "sofadf.head()"
   ]
  },
  {
   "cell_type": "code",
   "execution_count": 6,
   "metadata": {},
   "outputs": [
    {
     "data": {
      "text/html": [
       "<div>\n",
       "<style scoped>\n",
       "    .dataframe tbody tr th:only-of-type {\n",
       "        vertical-align: middle;\n",
       "    }\n",
       "\n",
       "    .dataframe tbody tr th {\n",
       "        vertical-align: top;\n",
       "    }\n",
       "\n",
       "    .dataframe thead th {\n",
       "        text-align: right;\n",
       "    }\n",
       "</style>\n",
       "<table border=\"1\" class=\"dataframe\">\n",
       "  <thead>\n",
       "    <tr style=\"text-align: right;\">\n",
       "      <th></th>\n",
       "      <th>icustay_id</th>\n",
       "      <th>chloride_max</th>\n",
       "      <th>day</th>\n",
       "      <th>sofa</th>\n",
       "    </tr>\n",
       "  </thead>\n",
       "  <tbody>\n",
       "    <tr>\n",
       "      <th>0</th>\n",
       "      <td>211552</td>\n",
       "      <td>114.0</td>\n",
       "      <td>1.0</td>\n",
       "      <td>7</td>\n",
       "    </tr>\n",
       "    <tr>\n",
       "      <th>1</th>\n",
       "      <td>294638</td>\n",
       "      <td>108.0</td>\n",
       "      <td>1.0</td>\n",
       "      <td>2</td>\n",
       "    </tr>\n",
       "    <tr>\n",
       "      <th>2</th>\n",
       "      <td>228232</td>\n",
       "      <td>102.0</td>\n",
       "      <td>1.0</td>\n",
       "      <td>4</td>\n",
       "    </tr>\n",
       "    <tr>\n",
       "      <th>3</th>\n",
       "      <td>220597</td>\n",
       "      <td>107.0</td>\n",
       "      <td>1.0</td>\n",
       "      <td>5</td>\n",
       "    </tr>\n",
       "    <tr>\n",
       "      <th>4</th>\n",
       "      <td>229441</td>\n",
       "      <td>106.0</td>\n",
       "      <td>1.0</td>\n",
       "      <td>2</td>\n",
       "    </tr>\n",
       "  </tbody>\n",
       "</table>\n",
       "</div>"
      ],
      "text/plain": [
       "   icustay_id  chloride_max  day  sofa\n",
       "0      211552         114.0  1.0     7\n",
       "1      294638         108.0  1.0     2\n",
       "2      228232         102.0  1.0     4\n",
       "3      220597         107.0  1.0     5\n",
       "4      229441         106.0  1.0     2"
      ]
     },
     "execution_count": 6,
     "metadata": {},
     "output_type": "execute_result"
    }
   ],
   "source": [
    "df1 = pd.merge( df, sofadf, on='icustay_id')\n",
    "df1.head()"
   ]
  },
  {
   "cell_type": "code",
   "execution_count": 7,
   "metadata": {},
   "outputs": [
    {
     "name": "stderr",
     "output_type": "stream",
     "text": [
      "/Users/panyiheng/anaconda3/lib/python3.6/site-packages/statsmodels/compat/pandas.py:56: FutureWarning: The pandas.core.datetools module is deprecated and will be removed in a future version. Please use the pandas.tseries module instead.\n",
      "  from pandas.core import datetools\n"
     ]
    }
   ],
   "source": [
    "import statsmodels.api as sm\n",
    "\n",
    "def p_logit(X,y,form='univariate',confounder=None):\n",
    "    if form=='multivariate':\n",
    "        logit = sm.Logit(y, pd.concat([X,confounder],axis=1))\n",
    "        result = logit.fit()\n",
    "        return result.pvalues[X.columns]\n",
    "    else:\n",
    "        pv=pd.Series()\n",
    "        coef=pd.Series()\n",
    "        for c in X.columns:\n",
    "            logit = sm.Logit(y, pd.concat([X[c],confounder],axis=1))\n",
    "            result = logit.fit()\n",
    "            pv[c]=result.pvalues[c]\n",
    "            coef[c]=result.params[c]\n",
    "\n",
    "    return pv, coef"
   ]
  },
  {
   "cell_type": "code",
   "execution_count": 8,
   "metadata": {},
   "outputs": [
    {
     "data": {
      "text/html": [
       "<div>\n",
       "<style scoped>\n",
       "    .dataframe tbody tr th:only-of-type {\n",
       "        vertical-align: middle;\n",
       "    }\n",
       "\n",
       "    .dataframe tbody tr th {\n",
       "        vertical-align: top;\n",
       "    }\n",
       "\n",
       "    .dataframe thead th {\n",
       "        text-align: right;\n",
       "    }\n",
       "</style>\n",
       "<table border=\"1\" class=\"dataframe\">\n",
       "  <thead>\n",
       "    <tr style=\"text-align: right;\">\n",
       "      <th></th>\n",
       "      <th>icustay_id</th>\n",
       "      <th>chloride_max</th>\n",
       "      <th>day</th>\n",
       "      <th>sofa</th>\n",
       "      <th>in_icu_mort</th>\n",
       "    </tr>\n",
       "  </thead>\n",
       "  <tbody>\n",
       "    <tr>\n",
       "      <th>0</th>\n",
       "      <td>211552</td>\n",
       "      <td>114.0</td>\n",
       "      <td>1.0</td>\n",
       "      <td>7</td>\n",
       "      <td>0</td>\n",
       "    </tr>\n",
       "    <tr>\n",
       "      <th>1</th>\n",
       "      <td>294638</td>\n",
       "      <td>108.0</td>\n",
       "      <td>1.0</td>\n",
       "      <td>2</td>\n",
       "      <td>0</td>\n",
       "    </tr>\n",
       "    <tr>\n",
       "      <th>2</th>\n",
       "      <td>228232</td>\n",
       "      <td>102.0</td>\n",
       "      <td>1.0</td>\n",
       "      <td>4</td>\n",
       "      <td>0</td>\n",
       "    </tr>\n",
       "    <tr>\n",
       "      <th>3</th>\n",
       "      <td>220597</td>\n",
       "      <td>107.0</td>\n",
       "      <td>1.0</td>\n",
       "      <td>5</td>\n",
       "      <td>1</td>\n",
       "    </tr>\n",
       "    <tr>\n",
       "      <th>4</th>\n",
       "      <td>229441</td>\n",
       "      <td>106.0</td>\n",
       "      <td>1.0</td>\n",
       "      <td>2</td>\n",
       "      <td>0</td>\n",
       "    </tr>\n",
       "  </tbody>\n",
       "</table>\n",
       "</div>"
      ],
      "text/plain": [
       "   icustay_id  chloride_max  day  sofa  in_icu_mort\n",
       "0      211552         114.0  1.0     7            0\n",
       "1      294638         108.0  1.0     2            0\n",
       "2      228232         102.0  1.0     4            0\n",
       "3      220597         107.0  1.0     5            1\n",
       "4      229441         106.0  1.0     2            0"
      ]
     },
     "execution_count": 8,
     "metadata": {},
     "output_type": "execute_result"
    }
   ],
   "source": [
    "df2 = pd.merge(df1, mordf, on='icustay_id')\n",
    "df2.head()"
   ]
  },
  {
   "cell_type": "code",
   "execution_count": 9,
   "metadata": {},
   "outputs": [],
   "source": [
    "X1 = df2[['sofa']]\n",
    "y1 = df2[['in_icu_mort']]"
   ]
  },
  {
   "cell_type": "code",
   "execution_count": 10,
   "metadata": {},
   "outputs": [
    {
     "name": "stdout",
     "output_type": "stream",
     "text": [
      "Optimization terminated successfully.\n",
      "         Current function value: 0.483055\n",
      "         Iterations 6\n"
     ]
    },
    {
     "data": {
      "text/plain": [
       "(sofa    0.0\n",
       " dtype: float64, sofa   -0.383182\n",
       " dtype: float64)"
      ]
     },
     "execution_count": 10,
     "metadata": {},
     "output_type": "execute_result"
    }
   ],
   "source": [
    "pv, coef = p_logit(X1, y1)\n",
    "pv, coef"
   ]
  },
  {
   "cell_type": "code",
   "execution_count": 11,
   "metadata": {},
   "outputs": [],
   "source": [
    "X2 = df2[['chloride_max']]\n",
    "y2 = df2[['in_icu_mort']]"
   ]
  },
  {
   "cell_type": "code",
   "execution_count": 12,
   "metadata": {},
   "outputs": [
    {
     "name": "stdout",
     "output_type": "stream",
     "text": [
      "Optimization terminated successfully.\n",
      "         Current function value: 0.274293\n",
      "         Iterations 6\n"
     ]
    },
    {
     "data": {
      "text/plain": [
       "(chloride_max    0.0\n",
       " dtype: float64, chloride_max   -0.022936\n",
       " dtype: float64)"
      ]
     },
     "execution_count": 12,
     "metadata": {},
     "output_type": "execute_result"
    }
   ],
   "source": [
    "pv, coef = p_logit(X2, y2)\n",
    "pv, coef"
   ]
  },
  {
   "cell_type": "code",
   "execution_count": 13,
   "metadata": {},
   "outputs": [
    {
     "data": {
      "text/plain": [
       "0    49599\n",
       "1     4109\n",
       "Name: in_icu_mort, dtype: int64"
      ]
     },
     "execution_count": 13,
     "metadata": {},
     "output_type": "execute_result"
    }
   ],
   "source": [
    "df2['in_icu_mort'].value_counts()"
   ]
  },
  {
   "cell_type": "code",
   "execution_count": 14,
   "metadata": {},
   "outputs": [
    {
     "name": "stdout",
     "output_type": "stream",
     "text": [
      "Optimization terminated successfully.\n",
      "         Current function value: 0.243924\n",
      "         Iterations 7\n",
      "                         Results: Logit\n",
      "=================================================================\n",
      "Model:              Logit            No. Iterations:   7.0000    \n",
      "Dependent Variable: in_icu_mort      Pseudo R-squared: 0.097     \n",
      "Date:               2019-02-01 10:15 AIC:              26205.3169\n",
      "No. Observations:   53708            BIC:              26223.0995\n",
      "Df Model:           1                Log-Likelihood:   -13101.   \n",
      "Df Residuals:       53706            LL-Null:          -14509.   \n",
      "Converged:          1.0000           Scale:            1.0000    \n",
      "-----------------------------------------------------------------\n",
      "                 Coef.  Std.Err.     z     P>|z|   [0.025  0.975]\n",
      "-----------------------------------------------------------------\n",
      "sofa             0.2669   0.0047   56.5107 0.0000  0.2577  0.2762\n",
      "chloride_max    -0.0351   0.0003 -115.8874 0.0000 -0.0357 -0.0345\n",
      "=================================================================\n",
      "\n"
     ]
    }
   ],
   "source": [
    "import statsmodels.api as sm\n",
    "\n",
    "X = df2[['sofa', 'chloride_max']]\n",
    "y = df2[['in_icu_mort']]\n",
    "\n",
    "logit_model=sm.Logit(y,X)\n",
    "result=logit_model.fit()\n",
    "print(result.summary2())"
   ]
  },
  {
   "cell_type": "raw",
   "metadata": {},
   "source": [
    "\n",
    "DOB is the date of birth of the given patient. \n",
    "Patients who are older than 89 years old at any time in the database \n",
    "have had their date of birth shifted to obscure their age and comply with HIPAA. \n",
    "\n",
    "The shift process was as follows: \n",
    "the patient’s age at their first admission was determined. \n",
    "The date of birth was then set to exactly 300 years before their first admission.\n",
    "\n",
    "\n",
    "DOB has been shifted for patients older than 89. \n",
    "The median age for the patients whose date of birth was shifted is 91.4.\n",
    "\n"
   ]
  },
  {
   "cell_type": "code",
   "execution_count": 41,
   "metadata": {},
   "outputs": [
    {
     "data": {
      "text/html": [
       "<div>\n",
       "<style scoped>\n",
       "    .dataframe tbody tr th:only-of-type {\n",
       "        vertical-align: middle;\n",
       "    }\n",
       "\n",
       "    .dataframe tbody tr th {\n",
       "        vertical-align: top;\n",
       "    }\n",
       "\n",
       "    .dataframe thead th {\n",
       "        text-align: right;\n",
       "    }\n",
       "</style>\n",
       "<table border=\"1\" class=\"dataframe\">\n",
       "  <thead>\n",
       "    <tr style=\"text-align: right;\">\n",
       "      <th></th>\n",
       "      <th>Unnamed: 0</th>\n",
       "      <th>subject_id</th>\n",
       "      <th>hadm_id</th>\n",
       "      <th>icustay_id</th>\n",
       "      <th>gender</th>\n",
       "      <th>insurance</th>\n",
       "      <th>ethnicity</th>\n",
       "      <th>admission_type</th>\n",
       "      <th>age</th>\n",
       "    </tr>\n",
       "  </thead>\n",
       "  <tbody>\n",
       "    <tr>\n",
       "      <th>0</th>\n",
       "      <td>0</td>\n",
       "      <td>3</td>\n",
       "      <td>145834</td>\n",
       "      <td>211552</td>\n",
       "      <td>M</td>\n",
       "      <td>Medicare</td>\n",
       "      <td>WHITE</td>\n",
       "      <td>EMERGENCY</td>\n",
       "      <td>77.0</td>\n",
       "    </tr>\n",
       "    <tr>\n",
       "      <th>1</th>\n",
       "      <td>1</td>\n",
       "      <td>4</td>\n",
       "      <td>185777</td>\n",
       "      <td>294638</td>\n",
       "      <td>F</td>\n",
       "      <td>Private</td>\n",
       "      <td>WHITE</td>\n",
       "      <td>EMERGENCY</td>\n",
       "      <td>48.0</td>\n",
       "    </tr>\n",
       "    <tr>\n",
       "      <th>2</th>\n",
       "      <td>2</td>\n",
       "      <td>6</td>\n",
       "      <td>107064</td>\n",
       "      <td>228232</td>\n",
       "      <td>F</td>\n",
       "      <td>Medicare</td>\n",
       "      <td>WHITE</td>\n",
       "      <td>ELECTIVE</td>\n",
       "      <td>66.0</td>\n",
       "    </tr>\n",
       "    <tr>\n",
       "      <th>3</th>\n",
       "      <td>3</td>\n",
       "      <td>9</td>\n",
       "      <td>150750</td>\n",
       "      <td>220597</td>\n",
       "      <td>M</td>\n",
       "      <td>Medicaid</td>\n",
       "      <td>UNKNOWN/NOT SPECIFIED</td>\n",
       "      <td>EMERGENCY</td>\n",
       "      <td>42.0</td>\n",
       "    </tr>\n",
       "    <tr>\n",
       "      <th>4</th>\n",
       "      <td>4</td>\n",
       "      <td>11</td>\n",
       "      <td>194540</td>\n",
       "      <td>229441</td>\n",
       "      <td>F</td>\n",
       "      <td>Private</td>\n",
       "      <td>WHITE</td>\n",
       "      <td>EMERGENCY</td>\n",
       "      <td>51.0</td>\n",
       "    </tr>\n",
       "  </tbody>\n",
       "</table>\n",
       "</div>"
      ],
      "text/plain": [
       "   Unnamed: 0  subject_id  hadm_id  icustay_id gender insurance  \\\n",
       "0           0           3   145834      211552      M  Medicare   \n",
       "1           1           4   185777      294638      F   Private   \n",
       "2           2           6   107064      228232      F  Medicare   \n",
       "3           3           9   150750      220597      M  Medicaid   \n",
       "4           4          11   194540      229441      F   Private   \n",
       "\n",
       "               ethnicity admission_type   age  \n",
       "0                  WHITE      EMERGENCY  77.0  \n",
       "1                  WHITE      EMERGENCY  48.0  \n",
       "2                  WHITE       ELECTIVE  66.0  \n",
       "3  UNKNOWN/NOT SPECIFIED      EMERGENCY  42.0  \n",
       "4                  WHITE      EMERGENCY  51.0  "
      ]
     },
     "execution_count": 41,
     "metadata": {},
     "output_type": "execute_result"
    }
   ],
   "source": [
    "pt = \"patient_info.csv\"\n",
    "\n",
    "pt = pd.read_csv(pt)\n",
    "pt.head()"
   ]
  },
  {
   "cell_type": "code",
   "execution_count": 44,
   "metadata": {},
   "outputs": [
    {
     "data": {
      "text/html": [
       "<div>\n",
       "<style scoped>\n",
       "    .dataframe tbody tr th:only-of-type {\n",
       "        vertical-align: middle;\n",
       "    }\n",
       "\n",
       "    .dataframe tbody tr th {\n",
       "        vertical-align: top;\n",
       "    }\n",
       "\n",
       "    .dataframe thead th {\n",
       "        text-align: right;\n",
       "    }\n",
       "</style>\n",
       "<table border=\"1\" class=\"dataframe\">\n",
       "  <thead>\n",
       "    <tr style=\"text-align: right;\">\n",
       "      <th></th>\n",
       "      <th>subject_id</th>\n",
       "      <th>hadm_id</th>\n",
       "      <th>icustay_id</th>\n",
       "      <th>chloride_max</th>\n",
       "      <th>sofa</th>\n",
       "      <th>gender</th>\n",
       "      <th>insurance</th>\n",
       "      <th>ethnicity</th>\n",
       "      <th>admission_type</th>\n",
       "      <th>age</th>\n",
       "      <th>in_icu_mort</th>\n",
       "    </tr>\n",
       "  </thead>\n",
       "  <tbody>\n",
       "    <tr>\n",
       "      <th>0</th>\n",
       "      <td>3</td>\n",
       "      <td>145834</td>\n",
       "      <td>211552</td>\n",
       "      <td>114.0</td>\n",
       "      <td>7</td>\n",
       "      <td>M</td>\n",
       "      <td>Medicare</td>\n",
       "      <td>WHITE</td>\n",
       "      <td>EMERGENCY</td>\n",
       "      <td>77.0</td>\n",
       "      <td>0</td>\n",
       "    </tr>\n",
       "    <tr>\n",
       "      <th>1</th>\n",
       "      <td>4</td>\n",
       "      <td>185777</td>\n",
       "      <td>294638</td>\n",
       "      <td>108.0</td>\n",
       "      <td>2</td>\n",
       "      <td>F</td>\n",
       "      <td>Private</td>\n",
       "      <td>WHITE</td>\n",
       "      <td>EMERGENCY</td>\n",
       "      <td>48.0</td>\n",
       "      <td>0</td>\n",
       "    </tr>\n",
       "    <tr>\n",
       "      <th>2</th>\n",
       "      <td>6</td>\n",
       "      <td>107064</td>\n",
       "      <td>228232</td>\n",
       "      <td>102.0</td>\n",
       "      <td>4</td>\n",
       "      <td>F</td>\n",
       "      <td>Medicare</td>\n",
       "      <td>WHITE</td>\n",
       "      <td>ELECTIVE</td>\n",
       "      <td>66.0</td>\n",
       "      <td>0</td>\n",
       "    </tr>\n",
       "    <tr>\n",
       "      <th>3</th>\n",
       "      <td>9</td>\n",
       "      <td>150750</td>\n",
       "      <td>220597</td>\n",
       "      <td>103.0</td>\n",
       "      <td>5</td>\n",
       "      <td>M</td>\n",
       "      <td>Medicaid</td>\n",
       "      <td>UNKNOWN/NOT SPECIFIED</td>\n",
       "      <td>EMERGENCY</td>\n",
       "      <td>42.0</td>\n",
       "      <td>1</td>\n",
       "    </tr>\n",
       "    <tr>\n",
       "      <th>4</th>\n",
       "      <td>9</td>\n",
       "      <td>150750</td>\n",
       "      <td>220597</td>\n",
       "      <td>103.0</td>\n",
       "      <td>5</td>\n",
       "      <td>M</td>\n",
       "      <td>Medicaid</td>\n",
       "      <td>UNKNOWN/NOT SPECIFIED</td>\n",
       "      <td>EMERGENCY</td>\n",
       "      <td>42.0</td>\n",
       "      <td>1</td>\n",
       "    </tr>\n",
       "  </tbody>\n",
       "</table>\n",
       "</div>"
      ],
      "text/plain": [
       "   subject_id  hadm_id  icustay_id  chloride_max  sofa gender insurance  \\\n",
       "0           3   145834      211552         114.0     7      M  Medicare   \n",
       "1           4   185777      294638         108.0     2      F   Private   \n",
       "2           6   107064      228232         102.0     4      F  Medicare   \n",
       "3           9   150750      220597         103.0     5      M  Medicaid   \n",
       "4           9   150750      220597         103.0     5      M  Medicaid   \n",
       "\n",
       "               ethnicity admission_type   age  in_icu_mort  \n",
       "0                  WHITE      EMERGENCY  77.0            0  \n",
       "1                  WHITE      EMERGENCY  48.0            0  \n",
       "2                  WHITE       ELECTIVE  66.0            0  \n",
       "3  UNKNOWN/NOT SPECIFIED      EMERGENCY  42.0            1  \n",
       "4  UNKNOWN/NOT SPECIFIED      EMERGENCY  42.0            1  "
      ]
     },
     "execution_count": 44,
     "metadata": {},
     "output_type": "execute_result"
    }
   ],
   "source": [
    "dataframe = pd.merge(df2, pt, on='icustay_id')\n",
    "dataframe = dataframe[['subject_id','hadm_id','icustay_id','chloride_max','sofa','gender','insurance','ethnicity','admission_type','age','in_icu_mort']]\n",
    "dataframe.head()"
   ]
  },
  {
   "cell_type": "code",
   "execution_count": 144,
   "metadata": {},
   "outputs": [],
   "source": [
    "def simplify_ethnicity(e):\n",
    "    if 'WHITE' in e:\n",
    "        return 'WHITE'\n",
    "    elif 'ASIAN' in e:\n",
    "        return 'ASIAN'\n",
    "    elif 'HISPANIC' in e or 'LATINO' in e:\n",
    "        return 'HISPANIC'\n",
    "    elif 'BLACK' in e or 'AFRICAN AMERICAN' in e:\n",
    "        return 'BLACK'\n",
    "    else:\n",
    "        return 'OTHER'"
   ]
  },
  {
   "cell_type": "code",
   "execution_count": 146,
   "metadata": {},
   "outputs": [
    {
     "data": {
      "text/html": [
       "<div>\n",
       "<style scoped>\n",
       "    .dataframe tbody tr th:only-of-type {\n",
       "        vertical-align: middle;\n",
       "    }\n",
       "\n",
       "    .dataframe tbody tr th {\n",
       "        vertical-align: top;\n",
       "    }\n",
       "\n",
       "    .dataframe thead th {\n",
       "        text-align: right;\n",
       "    }\n",
       "</style>\n",
       "<table border=\"1\" class=\"dataframe\">\n",
       "  <thead>\n",
       "    <tr style=\"text-align: right;\">\n",
       "      <th></th>\n",
       "      <th>subject_id</th>\n",
       "      <th>hadm_id</th>\n",
       "      <th>icustay_id</th>\n",
       "      <th>chloride_max</th>\n",
       "      <th>sofa</th>\n",
       "      <th>gender</th>\n",
       "      <th>insurance</th>\n",
       "      <th>ethnicity</th>\n",
       "      <th>admission_type</th>\n",
       "      <th>age</th>\n",
       "      <th>in_icu_mort</th>\n",
       "    </tr>\n",
       "  </thead>\n",
       "  <tbody>\n",
       "    <tr>\n",
       "      <th>0</th>\n",
       "      <td>3</td>\n",
       "      <td>145834</td>\n",
       "      <td>211552</td>\n",
       "      <td>114.0</td>\n",
       "      <td>7</td>\n",
       "      <td>M</td>\n",
       "      <td>Medicare</td>\n",
       "      <td>WHITE</td>\n",
       "      <td>EMERGENCY</td>\n",
       "      <td>77.0</td>\n",
       "      <td>0</td>\n",
       "    </tr>\n",
       "    <tr>\n",
       "      <th>1</th>\n",
       "      <td>4</td>\n",
       "      <td>185777</td>\n",
       "      <td>294638</td>\n",
       "      <td>108.0</td>\n",
       "      <td>2</td>\n",
       "      <td>F</td>\n",
       "      <td>Private</td>\n",
       "      <td>WHITE</td>\n",
       "      <td>EMERGENCY</td>\n",
       "      <td>48.0</td>\n",
       "      <td>0</td>\n",
       "    </tr>\n",
       "    <tr>\n",
       "      <th>2</th>\n",
       "      <td>6</td>\n",
       "      <td>107064</td>\n",
       "      <td>228232</td>\n",
       "      <td>102.0</td>\n",
       "      <td>4</td>\n",
       "      <td>F</td>\n",
       "      <td>Medicare</td>\n",
       "      <td>WHITE</td>\n",
       "      <td>ELECTIVE</td>\n",
       "      <td>66.0</td>\n",
       "      <td>0</td>\n",
       "    </tr>\n",
       "    <tr>\n",
       "      <th>3</th>\n",
       "      <td>9</td>\n",
       "      <td>150750</td>\n",
       "      <td>220597</td>\n",
       "      <td>103.0</td>\n",
       "      <td>5</td>\n",
       "      <td>M</td>\n",
       "      <td>Medicaid</td>\n",
       "      <td>OTHER</td>\n",
       "      <td>EMERGENCY</td>\n",
       "      <td>42.0</td>\n",
       "      <td>1</td>\n",
       "    </tr>\n",
       "    <tr>\n",
       "      <th>4</th>\n",
       "      <td>9</td>\n",
       "      <td>150750</td>\n",
       "      <td>220597</td>\n",
       "      <td>103.0</td>\n",
       "      <td>5</td>\n",
       "      <td>M</td>\n",
       "      <td>Medicaid</td>\n",
       "      <td>OTHER</td>\n",
       "      <td>EMERGENCY</td>\n",
       "      <td>42.0</td>\n",
       "      <td>1</td>\n",
       "    </tr>\n",
       "  </tbody>\n",
       "</table>\n",
       "</div>"
      ],
      "text/plain": [
       "   subject_id  hadm_id  icustay_id  chloride_max  sofa gender insurance  \\\n",
       "0           3   145834      211552         114.0     7      M  Medicare   \n",
       "1           4   185777      294638         108.0     2      F   Private   \n",
       "2           6   107064      228232         102.0     4      F  Medicare   \n",
       "3           9   150750      220597         103.0     5      M  Medicaid   \n",
       "4           9   150750      220597         103.0     5      M  Medicaid   \n",
       "\n",
       "  ethnicity admission_type   age  in_icu_mort  \n",
       "0     WHITE      EMERGENCY  77.0            0  \n",
       "1     WHITE      EMERGENCY  48.0            0  \n",
       "2     WHITE       ELECTIVE  66.0            0  \n",
       "3     OTHER      EMERGENCY  42.0            1  \n",
       "4     OTHER      EMERGENCY  42.0            1  "
      ]
     },
     "execution_count": 146,
     "metadata": {},
     "output_type": "execute_result"
    }
   ],
   "source": [
    "dataframe['ethnicity'] = dataframe['ethnicity'].apply(simplify_ethnicity)\n",
    "dataframe.head()"
   ]
  },
  {
   "cell_type": "code",
   "execution_count": 166,
   "metadata": {},
   "outputs": [],
   "source": [
    "\n",
    "X1 = dataframe[['sofa', 'chloride_max','gender','insurance','ethnicity','admission_type','age']]\n",
    "y1 = dataframe[['in_icu_mort']]\n"
   ]
  },
  {
   "cell_type": "code",
   "execution_count": 167,
   "metadata": {},
   "outputs": [
    {
     "data": {
      "text/plain": [
       "52941"
      ]
     },
     "execution_count": 167,
     "metadata": {},
     "output_type": "execute_result"
    }
   ],
   "source": [
    "dataframe.shape[0]"
   ]
  },
  {
   "cell_type": "code",
   "execution_count": 168,
   "metadata": {},
   "outputs": [
    {
     "data": {
      "text/plain": [
       "11"
      ]
     },
     "execution_count": 168,
     "metadata": {},
     "output_type": "execute_result"
    }
   ],
   "source": [
    "dataframe.shape[1]"
   ]
  },
  {
   "cell_type": "code",
   "execution_count": 169,
   "metadata": {},
   "outputs": [
    {
     "data": {
      "text/html": [
       "<div>\n",
       "<style scoped>\n",
       "    .dataframe tbody tr th:only-of-type {\n",
       "        vertical-align: middle;\n",
       "    }\n",
       "\n",
       "    .dataframe tbody tr th {\n",
       "        vertical-align: top;\n",
       "    }\n",
       "\n",
       "    .dataframe thead th {\n",
       "        text-align: right;\n",
       "    }\n",
       "</style>\n",
       "<table border=\"1\" class=\"dataframe\">\n",
       "  <thead>\n",
       "    <tr style=\"text-align: right;\">\n",
       "      <th></th>\n",
       "      <th>subject_id</th>\n",
       "      <th>hadm_id</th>\n",
       "      <th>icustay_id</th>\n",
       "      <th>chloride_max</th>\n",
       "      <th>sofa</th>\n",
       "      <th>age</th>\n",
       "      <th>in_icu_mort</th>\n",
       "    </tr>\n",
       "  </thead>\n",
       "  <tbody>\n",
       "    <tr>\n",
       "      <th>count</th>\n",
       "      <td>52941.000000</td>\n",
       "      <td>52941.000000</td>\n",
       "      <td>52941.000000</td>\n",
       "      <td>52941.000000</td>\n",
       "      <td>52941.000000</td>\n",
       "      <td>52941.00000</td>\n",
       "      <td>52941.000000</td>\n",
       "    </tr>\n",
       "    <tr>\n",
       "      <th>mean</th>\n",
       "      <td>36722.215768</td>\n",
       "      <td>149974.758788</td>\n",
       "      <td>250085.398878</td>\n",
       "      <td>107.422943</td>\n",
       "      <td>3.834438</td>\n",
       "      <td>64.72291</td>\n",
       "      <td>0.075197</td>\n",
       "    </tr>\n",
       "    <tr>\n",
       "      <th>std</th>\n",
       "      <td>29007.151334</td>\n",
       "      <td>28914.393946</td>\n",
       "      <td>28883.963793</td>\n",
       "      <td>6.030615</td>\n",
       "      <td>2.973011</td>\n",
       "      <td>17.14040</td>\n",
       "      <td>0.263711</td>\n",
       "    </tr>\n",
       "    <tr>\n",
       "      <th>min</th>\n",
       "      <td>3.000000</td>\n",
       "      <td>100001.000000</td>\n",
       "      <td>200001.000000</td>\n",
       "      <td>74.000000</td>\n",
       "      <td>0.000000</td>\n",
       "      <td>19.00000</td>\n",
       "      <td>0.000000</td>\n",
       "    </tr>\n",
       "    <tr>\n",
       "      <th>25%</th>\n",
       "      <td>13271.000000</td>\n",
       "      <td>124908.000000</td>\n",
       "      <td>225122.000000</td>\n",
       "      <td>104.000000</td>\n",
       "      <td>1.000000</td>\n",
       "      <td>54.00000</td>\n",
       "      <td>0.000000</td>\n",
       "    </tr>\n",
       "    <tr>\n",
       "      <th>50%</th>\n",
       "      <td>26603.000000</td>\n",
       "      <td>150026.000000</td>\n",
       "      <td>250124.000000</td>\n",
       "      <td>107.000000</td>\n",
       "      <td>3.000000</td>\n",
       "      <td>66.00000</td>\n",
       "      <td>0.000000</td>\n",
       "    </tr>\n",
       "    <tr>\n",
       "      <th>75%</th>\n",
       "      <td>60020.000000</td>\n",
       "      <td>175057.000000</td>\n",
       "      <td>275080.000000</td>\n",
       "      <td>111.000000</td>\n",
       "      <td>5.000000</td>\n",
       "      <td>78.00000</td>\n",
       "      <td>0.000000</td>\n",
       "    </tr>\n",
       "    <tr>\n",
       "      <th>max</th>\n",
       "      <td>99999.000000</td>\n",
       "      <td>199999.000000</td>\n",
       "      <td>299999.000000</td>\n",
       "      <td>198.000000</td>\n",
       "      <td>22.000000</td>\n",
       "      <td>91.40000</td>\n",
       "      <td>1.000000</td>\n",
       "    </tr>\n",
       "  </tbody>\n",
       "</table>\n",
       "</div>"
      ],
      "text/plain": [
       "         subject_id        hadm_id     icustay_id  chloride_max          sofa  \\\n",
       "count  52941.000000   52941.000000   52941.000000  52941.000000  52941.000000   \n",
       "mean   36722.215768  149974.758788  250085.398878    107.422943      3.834438   \n",
       "std    29007.151334   28914.393946   28883.963793      6.030615      2.973011   \n",
       "min        3.000000  100001.000000  200001.000000     74.000000      0.000000   \n",
       "25%    13271.000000  124908.000000  225122.000000    104.000000      1.000000   \n",
       "50%    26603.000000  150026.000000  250124.000000    107.000000      3.000000   \n",
       "75%    60020.000000  175057.000000  275080.000000    111.000000      5.000000   \n",
       "max    99999.000000  199999.000000  299999.000000    198.000000     22.000000   \n",
       "\n",
       "               age   in_icu_mort  \n",
       "count  52941.00000  52941.000000  \n",
       "mean      64.72291      0.075197  \n",
       "std       17.14040      0.263711  \n",
       "min       19.00000      0.000000  \n",
       "25%       54.00000      0.000000  \n",
       "50%       66.00000      0.000000  \n",
       "75%       78.00000      0.000000  \n",
       "max       91.40000      1.000000  "
      ]
     },
     "execution_count": 169,
     "metadata": {},
     "output_type": "execute_result"
    }
   ],
   "source": [
    "dataframe.describe()"
   ]
  },
  {
   "cell_type": "code",
   "execution_count": 172,
   "metadata": {},
   "outputs": [],
   "source": [
    "cat_vars=['gender','insurance','ethnicity','admission_type']\n",
    "for var in cat_vars:\n",
    "    cat_list='var'+'_'+var\n",
    "    cat_list = pd.get_dummies(X1[var], prefix=var)\n",
    "    X11=X1.join(cat_list)\n",
    "    X1=X11\n",
    "\n",
    "X1_vars=X1.columns.values.tolist()\n",
    "to_keep=[i for i in X1_vars if i not in cat_vars]"
   ]
  },
  {
   "cell_type": "code",
   "execution_count": 173,
   "metadata": {
    "scrolled": true
   },
   "outputs": [
    {
     "data": {
      "text/plain": [
       "array(['sofa', 'chloride_max', 'age', 'gender_F', 'gender_M',\n",
       "       'insurance_Government', 'insurance_Medicaid', 'insurance_Medicare',\n",
       "       'insurance_Private', 'insurance_Self Pay', 'ethnicity_ASIAN',\n",
       "       'ethnicity_BLACK', 'ethnicity_HISPANIC', 'ethnicity_OTHER',\n",
       "       'ethnicity_WHITE', 'admission_type_ELECTIVE',\n",
       "       'admission_type_EMERGENCY', 'admission_type_URGENT'], dtype=object)"
      ]
     },
     "execution_count": 173,
     "metadata": {},
     "output_type": "execute_result"
    }
   ],
   "source": [
    "X1_final=X1[to_keep]\n",
    "X1 = X1_final\n",
    "X1_final.columns.values"
   ]
  },
  {
   "cell_type": "code",
   "execution_count": 174,
   "metadata": {},
   "outputs": [
    {
     "name": "stderr",
     "output_type": "stream",
     "text": [
      "/Users/panyiheng/anaconda3/lib/python3.6/site-packages/sklearn/linear_model/logistic.py:433: FutureWarning: Default solver will be changed to 'lbfgs' in 0.22. Specify a solver to silence this warning.\n",
      "  FutureWarning)\n"
     ]
    },
    {
     "name": "stdout",
     "output_type": "stream",
     "text": [
      "[ True  True  True  True  True  True  True  True  True  True  True  True\n",
      "  True  True  True  True  True  True]\n",
      "[1 1 1 1 1 1 1 1 1 1 1 1 1 1 1 1 1 1]\n"
     ]
    }
   ],
   "source": [
    "X1_final_vars=X1_final.columns.values.tolist()\n",
    "y1= pd.DataFrame(y1,columns=['in_icu_mort'])\n",
    "X=[i for i in X1_final_vars if i not in y1]\n",
    "from sklearn.feature_selection import RFE\n",
    "from sklearn.linear_model import LogisticRegression\n",
    "logreg = LogisticRegression()\n",
    "rfe = RFE(logreg, 20)\n",
    "rfe = rfe.fit(X1, y1.values.ravel())\n",
    "print(rfe.support_)\n",
    "print(rfe.ranking_)"
   ]
  },
  {
   "cell_type": "code",
   "execution_count": 176,
   "metadata": {},
   "outputs": [
    {
     "name": "stdout",
     "output_type": "stream",
     "text": [
      "Optimization terminated successfully.\n",
      "         Current function value: 0.225238\n",
      "         Iterations 8\n",
      "                            Results: Logit\n",
      "======================================================================\n",
      "Model:                 Logit             No. Iterations:    8.0000    \n",
      "Dependent Variable:    in_icu_mort       Pseudo R-squared:  0.156     \n",
      "Date:                  2019-01-28 12:03  AIC:               23878.6203\n",
      "No. Observations:      52941             BIC:               24011.7743\n",
      "Df Model:              14                Log-Likelihood:    -11924.   \n",
      "Df Residuals:          52926             LL-Null:           -14129.   \n",
      "Converged:             1.0000            Scale:             1.0000    \n",
      "----------------------------------------------------------------------\n",
      "                          Coef.  Std.Err.    z    P>|z|  [0.025 0.975]\n",
      "----------------------------------------------------------------------\n",
      "sofa                      0.2698   0.0050 54.4558 0.0000 0.2601 0.2795\n",
      "chloride_max              0.0204   0.0027  7.6435 0.0000 0.0152 0.0256\n",
      "age                       0.0214   0.0015 14.5870 0.0000 0.0185 0.0243\n",
      "gender_F                 -4.0767      nan     nan    nan    nan    nan\n",
      "gender_M                 -4.2774      nan     nan    nan    nan    nan\n",
      "insurance_Government     -2.3324      nan     nan    nan    nan    nan\n",
      "insurance_Medicaid       -2.4627      nan     nan    nan    nan    nan\n",
      "insurance_Medicare       -2.4710      nan     nan    nan    nan    nan\n",
      "insurance_Private        -2.4311      nan     nan    nan    nan    nan\n",
      "insurance_Self Pay       -1.5212      nan     nan    nan    nan    nan\n",
      "ethnicity_ASIAN           0.8332      nan     nan    nan    nan    nan\n",
      "ethnicity_BLACK           0.4263      nan     nan    nan    nan    nan\n",
      "ethnicity_HISPANIC        0.3492      nan     nan    nan    nan    nan\n",
      "ethnicity_OTHER           1.2385      nan     nan    nan    nan    nan\n",
      "ethnicity_WHITE           0.7734      nan     nan    nan    nan    nan\n",
      "admission_type_ELECTIVE  -3.1097      nan     nan    nan    nan    nan\n",
      "admission_type_EMERGENCY -1.5456      nan     nan    nan    nan    nan\n",
      "admission_type_URGENT    -1.6742      nan     nan    nan    nan    nan\n",
      "======================================================================\n",
      "\n"
     ]
    },
    {
     "name": "stderr",
     "output_type": "stream",
     "text": [
      "/Users/panyiheng/anaconda3/lib/python3.6/site-packages/statsmodels/base/model.py:1029: RuntimeWarning: invalid value encountered in sqrt\n",
      "  return np.sqrt(np.diag(self.cov_params()))\n",
      "/Users/panyiheng/anaconda3/lib/python3.6/site-packages/scipy/stats/_distn_infrastructure.py:879: RuntimeWarning: invalid value encountered in greater\n",
      "  return (self.a < x) & (x < self.b)\n",
      "/Users/panyiheng/anaconda3/lib/python3.6/site-packages/scipy/stats/_distn_infrastructure.py:879: RuntimeWarning: invalid value encountered in less\n",
      "  return (self.a < x) & (x < self.b)\n",
      "/Users/panyiheng/anaconda3/lib/python3.6/site-packages/scipy/stats/_distn_infrastructure.py:1821: RuntimeWarning: invalid value encountered in less_equal\n",
      "  cond2 = cond0 & (x <= self.a)\n"
     ]
    }
   ],
   "source": [
    "import statsmodels.api as sm\n",
    "logit_model=sm.Logit(y1,X1)\n",
    "result=logit_model.fit()\n",
    "print(result.summary2())"
   ]
  }
 ],
 "metadata": {
  "kernelspec": {
   "display_name": "Python 3",
   "language": "python",
   "name": "python3"
  },
  "language_info": {
   "codemirror_mode": {
    "name": "ipython",
    "version": 3
   },
   "file_extension": ".py",
   "mimetype": "text/x-python",
   "name": "python",
   "nbconvert_exporter": "python",
   "pygments_lexer": "ipython3",
   "version": "3.6.4"
  }
 },
 "nbformat": 4,
 "nbformat_minor": 2
}
