{
 "cells": [
  {
   "cell_type": "code",
   "execution_count": 54,
   "metadata": {},
   "outputs": [],
   "source": [
    "import numpy as np\n",
    "import pandas as pd\n",
    "import statsmodels.api as sm\n",
    "\n",
    "from IPython.display import display\n",
    "from tableone import TableOne\n",
    "from scipy.stats import chi2_contingency, kruskal\n",
    "\n",
    "pd.options.display.precision = 3"
   ]
  },
  {
   "cell_type": "markdown",
   "metadata": {},
   "source": [
    "## Load useful DataFrames"
   ]
  },
  {
   "cell_type": "code",
   "execution_count": 55,
   "metadata": {},
   "outputs": [],
   "source": [
    "# Get the adult patients first icustay id.\n",
    "df = pd.read_csv('icu_first_18.csv')\n",
    "icu = []\n",
    "for icuid in df['icustay_id']:\n",
    "    icu.append(icuid)"
   ]
  },
  {
   "cell_type": "code",
   "execution_count": 56,
   "metadata": {},
   "outputs": [],
   "source": [
    "# Admission demographics\n",
    "df = pd.read_csv('adm_demographics.csv')\n",
    "df = df.set_index(['subject_id', 'hadm_id'])\n",
    "df_demographics = df.filter(['age', 'gender', 'ethnicity'])\n",
    "\n",
    "# Admission demographics for adjustments\n",
    "df_demo_adj = pd.concat([df['age'],\n",
    "                         pd.get_dummies(df['gender']),\n",
    "                         pd.get_dummies(df['ethnicity'])], axis=1)\n",
    "df_demo_adj = df_demo_adj.drop(['M', 'OTHER'], axis=1)"
   ]
  },
  {
   "cell_type": "code",
   "execution_count": 82,
   "metadata": {},
   "outputs": [],
   "source": [
    "# Average daily chloride load of first 7 days\n",
    "df = pd.read_csv('chloride.csv')\n",
    "df = df.set_index(['subject_id', 'hadm_id', 'icustay_id'])\n",
    "df = df.filter(['icu_day', 'chloride_input_meq'])\n",
    "df = df.dropna(subset = ['chloride_input_meq'])\n",
    "df = df.query('icu_day <= 7')\n",
    "df = df.groupby(['subject_id', 'hadm_id', 'icustay_id']) \\\n",
    "       .agg({'icu_day': 'max', 'chloride_input_meq': 'sum'})\n",
    "df['daily_chl_load'] = df['chloride_input_meq'] / df['icu_day']\n",
    "df_chl_load = df.filter(['daily_chl_load'])"
   ]
  },
  {
   "cell_type": "code",
   "execution_count": 89,
   "metadata": {
    "scrolled": true
   },
   "outputs": [],
   "source": [
    "# SOFA score on admission (day 1)\n",
    "df = pd.read_csv('sofa_pan.csv')\n",
    "df = df.drop(df.columns[[0]], axis=1) \n",
    "df = df.query('day == 1')\n",
    "\n",
    "df_sofa = df.filter(['subject_id', 'hadm_id', 'icustay_id', 'sofa'])\n",
    "\n",
    "df_sofa_sub = df.filter(['subject_id', 'hadm_id', 'icustay_id','respiration', 'coagulation','liver','cns','renal','cardiovascular'])\n",
    "df_sofa_sub = df_sofa_sub.fillna(0)"
   ]
  },
  {
   "cell_type": "code",
   "execution_count": 90,
   "metadata": {},
   "outputs": [],
   "source": [
    "# New AKI\n",
    "df = pd.read_csv('new_aki.csv')\n",
    "df['new'] = df.apply(lambda row: 1 if row['difference'] < 0 else 0, axis=1)\n",
    "df_aki = df.filter(['icustay_id', 'new'])\n",
    "df_aki = df_aki[df_aki['icustay_id'].isin(icu)]"
   ]
  },
  {
   "cell_type": "markdown",
   "metadata": {},
   "source": [
    "## Define useful functions"
   ]
  },
  {
   "cell_type": "code",
   "execution_count": 91,
   "metadata": {},
   "outputs": [],
   "source": [
    "def run_kruskal(df_neg, df_pos):\n",
    "    \"\"\"Display results of a Kruskal-Wallis H test.\n",
    "    \n",
    "    @param df_neg: DataFrame containing the negative samples\n",
    "    @param df_pos: DataFrame containing the positive samples\n",
    "    \"\"\"\n",
    "    summary = pd.concat([df_neg.describe(), df_pos.describe()], axis=1)\n",
    "    summary.columns = ['(-)', '(+)']\n",
    "    display(summary)\n",
    "    print (kruskal(df_neg, df_pos))\n",
    "\n",
    "def run_chi2(index, columns):\n",
    "    \"\"\"Display results of a chi-square test of independence.\n",
    "    \n",
    "    @param index: Values to group by in the rows\n",
    "    @param columns: Values to group by in the columns\n",
    "    \"\"\"\n",
    "    print (\"Chi-square test of independence with Yates' continuity correction\")\n",
    "    c_table = pd.crosstab(index, columns)\n",
    "    display(c_table)\n",
    "    chi2, p, dof, expected = chi2_contingency(c_table)  # correction=True (Yates' correction)\n",
    "    print (\"X-squared = %s\" % chi2)\n",
    "    print (\"dof       = %s\" % dof)\n",
    "    print (\"p-value   = %s\" % p)\n",
    "\n",
    "def run_glm(df):\n",
    "    \"\"\"Display results (odds ratios) of a GLM regression.\n",
    "\n",
    "    @param df: DataFrame with columns [exog1, exog2, ..., endog]\n",
    "    \"\"\"\n",
    "    endog = df[df.columns[-1]]\n",
    "    exog = sm.add_constant(df[df.columns[:-1]])\n",
    "    glm = sm.GLM(endog, exog, family=sm.families.Binomial())  # == sm.Logit(endog, exog)\n",
    "    result = glm.fit()\n",
    "    print (result.summary())\n",
    "\n",
    "    odds = pd.concat([result.params, result.conf_int()], axis=1)[1:]  # toss const (first row)\n",
    "    odds.columns = ['Odds Ratio', '2.5%', '97.5%']\n",
    "    display(np.exp(odds))\n",
    "    "
   ]
  },
  {
   "cell_type": "markdown",
   "metadata": {},
   "source": [
    "# Daily Chloride Load and New AKI¶"
   ]
  },
  {
   "cell_type": "code",
   "execution_count": 92,
   "metadata": {
    "scrolled": true
   },
   "outputs": [],
   "source": [
    "df_combined = pd.merge(df_chl_load.reset_index(),df_sofa,on=['subject_id','hadm_id','icustay_id'])\n",
    "df_combined = pd.merge(df_combined.reset_index(),df_demo_adj.reset_index(),on=['subject_id','hadm_id'])\n",
    "df_combined = df_combined.drop(df_combined.columns[[0]], axis=1)\n",
    "df_combined = pd.merge(df_combined,df_aki,on=['icustay_id'])"
   ]
  },
  {
   "cell_type": "code",
   "execution_count": 93,
   "metadata": {
    "scrolled": false
   },
   "outputs": [
    {
     "data": {
      "text/html": [
       "<div>\n",
       "<style scoped>\n",
       "    .dataframe tbody tr th:only-of-type {\n",
       "        vertical-align: middle;\n",
       "    }\n",
       "\n",
       "    .dataframe tbody tr th {\n",
       "        vertical-align: top;\n",
       "    }\n",
       "\n",
       "    .dataframe thead th {\n",
       "        text-align: right;\n",
       "    }\n",
       "</style>\n",
       "<table border=\"1\" class=\"dataframe\">\n",
       "  <thead>\n",
       "    <tr style=\"text-align: right;\">\n",
       "      <th></th>\n",
       "      <th>(-)</th>\n",
       "      <th>(+)</th>\n",
       "    </tr>\n",
       "  </thead>\n",
       "  <tbody>\n",
       "    <tr>\n",
       "      <th>count</th>\n",
       "      <td>25573.000</td>\n",
       "      <td>18652.000</td>\n",
       "    </tr>\n",
       "    <tr>\n",
       "      <th>mean</th>\n",
       "      <td>192.793</td>\n",
       "      <td>189.362</td>\n",
       "    </tr>\n",
       "    <tr>\n",
       "      <th>std</th>\n",
       "      <td>172.423</td>\n",
       "      <td>144.791</td>\n",
       "    </tr>\n",
       "    <tr>\n",
       "      <th>min</th>\n",
       "      <td>0.036</td>\n",
       "      <td>0.257</td>\n",
       "    </tr>\n",
       "    <tr>\n",
       "      <th>25%</th>\n",
       "      <td>77.000</td>\n",
       "      <td>92.633</td>\n",
       "    </tr>\n",
       "    <tr>\n",
       "      <th>50%</th>\n",
       "      <td>154.767</td>\n",
       "      <td>164.247</td>\n",
       "    </tr>\n",
       "    <tr>\n",
       "      <th>75%</th>\n",
       "      <td>259.105</td>\n",
       "      <td>251.496</td>\n",
       "    </tr>\n",
       "    <tr>\n",
       "      <th>max</th>\n",
       "      <td>3150.200</td>\n",
       "      <td>5066.143</td>\n",
       "    </tr>\n",
       "  </tbody>\n",
       "</table>\n",
       "</div>"
      ],
      "text/plain": [
       "             (-)        (+)\n",
       "count  25573.000  18652.000\n",
       "mean     192.793    189.362\n",
       "std      172.423    144.791\n",
       "min        0.036      0.257\n",
       "25%       77.000     92.633\n",
       "50%      154.767    164.247\n",
       "75%      259.105    251.496\n",
       "max     3150.200   5066.143"
      ]
     },
     "metadata": {},
     "output_type": "display_data"
    },
    {
     "name": "stdout",
     "output_type": "stream",
     "text": [
      "KruskalResult(statistic=45.16459025253761, pvalue=1.8115105240429043e-11)\n"
     ]
    }
   ],
   "source": [
    "run_kruskal(df_combined.query('new == 0').filter(['daily_chl_load']),\n",
    "            df_combined.query('new == 1').filter(['daily_chl_load']))"
   ]
  },
  {
   "cell_type": "markdown",
   "metadata": {},
   "source": [
    "## Adjust with age, race, gender, _SOFA_"
   ]
  },
  {
   "cell_type": "code",
   "execution_count": 94,
   "metadata": {
    "scrolled": false
   },
   "outputs": [
    {
     "name": "stdout",
     "output_type": "stream",
     "text": [
      "                 Generalized Linear Model Regression Results                  \n",
      "==============================================================================\n",
      "Dep. Variable:                    new   No. Observations:                44225\n",
      "Model:                            GLM   Df Residuals:                    44216\n",
      "Model Family:                Binomial   Df Model:                            8\n",
      "Link Function:                  logit   Scale:                             1.0\n",
      "Method:                          IRLS   Log-Likelihood:                -29970.\n",
      "Date:                Mon, 08 Apr 2019   Deviance:                       59941.\n",
      "Time:                        15:07:18   Pearson chi2:                 4.42e+04\n",
      "No. Iterations:                     4                                         \n",
      "==================================================================================\n",
      "                     coef    std err          z      P>|z|      [0.025      0.975]\n",
      "----------------------------------------------------------------------------------\n",
      "const             -0.2236      0.049     -4.596      0.000      -0.319      -0.128\n",
      "daily_chl_load -8.473e-05   6.13e-05     -1.381      0.167      -0.000    3.55e-05\n",
      "sofa              -0.0111      0.003     -3.369      0.001      -0.018      -0.005\n",
      "age                0.0040      0.001      6.796      0.000       0.003       0.005\n",
      "F                 -0.0680      0.020     -3.452      0.001      -0.107      -0.029\n",
      "ASIAN             -0.2360      0.068     -3.461      0.001      -0.370      -0.102\n",
      "BLACK             -0.5726      0.043    -13.464      0.000      -0.656      -0.489\n",
      "HISPANIC          -0.3796      0.059     -6.381      0.000      -0.496      -0.263\n",
      "WHITE             -0.2673      0.028     -9.393      0.000      -0.323      -0.212\n",
      "==================================================================================\n"
     ]
    },
    {
     "data": {
      "text/html": [
       "<div>\n",
       "<style scoped>\n",
       "    .dataframe tbody tr th:only-of-type {\n",
       "        vertical-align: middle;\n",
       "    }\n",
       "\n",
       "    .dataframe tbody tr th {\n",
       "        vertical-align: top;\n",
       "    }\n",
       "\n",
       "    .dataframe thead th {\n",
       "        text-align: right;\n",
       "    }\n",
       "</style>\n",
       "<table border=\"1\" class=\"dataframe\">\n",
       "  <thead>\n",
       "    <tr style=\"text-align: right;\">\n",
       "      <th></th>\n",
       "      <th>Odds Ratio</th>\n",
       "      <th>2.5%</th>\n",
       "      <th>97.5%</th>\n",
       "    </tr>\n",
       "  </thead>\n",
       "  <tbody>\n",
       "    <tr>\n",
       "      <th>daily_chl_load</th>\n",
       "      <td>1.000</td>\n",
       "      <td>1.000</td>\n",
       "      <td>1.000</td>\n",
       "    </tr>\n",
       "    <tr>\n",
       "      <th>sofa</th>\n",
       "      <td>0.989</td>\n",
       "      <td>0.983</td>\n",
       "      <td>0.995</td>\n",
       "    </tr>\n",
       "    <tr>\n",
       "      <th>age</th>\n",
       "      <td>1.004</td>\n",
       "      <td>1.003</td>\n",
       "      <td>1.005</td>\n",
       "    </tr>\n",
       "    <tr>\n",
       "      <th>F</th>\n",
       "      <td>0.934</td>\n",
       "      <td>0.899</td>\n",
       "      <td>0.971</td>\n",
       "    </tr>\n",
       "    <tr>\n",
       "      <th>ASIAN</th>\n",
       "      <td>0.790</td>\n",
       "      <td>0.691</td>\n",
       "      <td>0.903</td>\n",
       "    </tr>\n",
       "    <tr>\n",
       "      <th>BLACK</th>\n",
       "      <td>0.564</td>\n",
       "      <td>0.519</td>\n",
       "      <td>0.613</td>\n",
       "    </tr>\n",
       "    <tr>\n",
       "      <th>HISPANIC</th>\n",
       "      <td>0.684</td>\n",
       "      <td>0.609</td>\n",
       "      <td>0.769</td>\n",
       "    </tr>\n",
       "    <tr>\n",
       "      <th>WHITE</th>\n",
       "      <td>0.765</td>\n",
       "      <td>0.724</td>\n",
       "      <td>0.809</td>\n",
       "    </tr>\n",
       "  </tbody>\n",
       "</table>\n",
       "</div>"
      ],
      "text/plain": [
       "                Odds Ratio   2.5%  97.5%\n",
       "daily_chl_load       1.000  1.000  1.000\n",
       "sofa                 0.989  0.983  0.995\n",
       "age                  1.004  1.003  1.005\n",
       "F                    0.934  0.899  0.971\n",
       "ASIAN                0.790  0.691  0.903\n",
       "BLACK                0.564  0.519  0.613\n",
       "HISPANIC             0.684  0.609  0.769\n",
       "WHITE                0.765  0.724  0.809"
      ]
     },
     "metadata": {},
     "output_type": "display_data"
    }
   ],
   "source": [
    "df_combined = df_combined.set_index(['subject_id','hadm_id','icustay_id'])\n",
    "run_glm(df_combined)"
   ]
  },
  {
   "cell_type": "markdown",
   "metadata": {},
   "source": [
    "## Adjust with age, race, gender, _SOFA subscore_"
   ]
  },
  {
   "cell_type": "code",
   "execution_count": 95,
   "metadata": {},
   "outputs": [
    {
     "name": "stdout",
     "output_type": "stream",
     "text": [
      "                 Generalized Linear Model Regression Results                  \n",
      "==============================================================================\n",
      "Dep. Variable:                    new   No. Observations:                44225\n",
      "Model:                            GLM   Df Residuals:                    44211\n",
      "Model Family:                Binomial   Df Model:                           13\n",
      "Link Function:                  logit   Scale:                             1.0\n",
      "Method:                          IRLS   Log-Likelihood:                -27770.\n",
      "Date:                Mon, 08 Apr 2019   Deviance:                       55540.\n",
      "Time:                        15:08:06   Pearson chi2:                 4.33e+04\n",
      "No. Iterations:                     4                                         \n",
      "==================================================================================\n",
      "                     coef    std err          z      P>|z|      [0.025      0.975]\n",
      "----------------------------------------------------------------------------------\n",
      "const             -0.4714      0.051     -9.156      0.000      -0.572      -0.371\n",
      "daily_chl_load    -0.0007    6.9e-05    -10.174      0.000      -0.001      -0.001\n",
      "respiration        0.2277      0.009     26.383      0.000       0.211       0.245\n",
      "coagulation        0.1379      0.014     10.067      0.000       0.111       0.165\n",
      "liver              0.0151      0.016      0.936      0.349      -0.017       0.047\n",
      "cns               -0.0247      0.011     -2.334      0.020      -0.046      -0.004\n",
      "renal             -0.6044      0.012    -52.214      0.000      -0.627      -0.582\n",
      "cardiovascular     0.1528      0.011     14.538      0.000       0.132       0.173\n",
      "age                0.0072      0.001     11.402      0.000       0.006       0.008\n",
      "F                 -0.1158      0.021     -5.571      0.000      -0.157      -0.075\n",
      "ASIAN             -0.0856      0.072     -1.195      0.232      -0.226       0.055\n",
      "BLACK             -0.1307      0.045     -2.874      0.004      -0.220      -0.042\n",
      "HISPANIC          -0.2315      0.062     -3.720      0.000      -0.353      -0.110\n",
      "WHITE             -0.1787      0.030     -5.982      0.000      -0.237      -0.120\n",
      "==================================================================================\n"
     ]
    },
    {
     "data": {
      "text/html": [
       "<div>\n",
       "<style scoped>\n",
       "    .dataframe tbody tr th:only-of-type {\n",
       "        vertical-align: middle;\n",
       "    }\n",
       "\n",
       "    .dataframe tbody tr th {\n",
       "        vertical-align: top;\n",
       "    }\n",
       "\n",
       "    .dataframe thead th {\n",
       "        text-align: right;\n",
       "    }\n",
       "</style>\n",
       "<table border=\"1\" class=\"dataframe\">\n",
       "  <thead>\n",
       "    <tr style=\"text-align: right;\">\n",
       "      <th></th>\n",
       "      <th>Odds Ratio</th>\n",
       "      <th>2.5%</th>\n",
       "      <th>97.5%</th>\n",
       "    </tr>\n",
       "  </thead>\n",
       "  <tbody>\n",
       "    <tr>\n",
       "      <th>daily_chl_load</th>\n",
       "      <td>0.999</td>\n",
       "      <td>0.999</td>\n",
       "      <td>0.999</td>\n",
       "    </tr>\n",
       "    <tr>\n",
       "      <th>respiration</th>\n",
       "      <td>1.256</td>\n",
       "      <td>1.235</td>\n",
       "      <td>1.277</td>\n",
       "    </tr>\n",
       "    <tr>\n",
       "      <th>coagulation</th>\n",
       "      <td>1.148</td>\n",
       "      <td>1.117</td>\n",
       "      <td>1.179</td>\n",
       "    </tr>\n",
       "    <tr>\n",
       "      <th>liver</th>\n",
       "      <td>1.015</td>\n",
       "      <td>0.984</td>\n",
       "      <td>1.048</td>\n",
       "    </tr>\n",
       "    <tr>\n",
       "      <th>cns</th>\n",
       "      <td>0.976</td>\n",
       "      <td>0.955</td>\n",
       "      <td>0.996</td>\n",
       "    </tr>\n",
       "    <tr>\n",
       "      <th>renal</th>\n",
       "      <td>0.546</td>\n",
       "      <td>0.534</td>\n",
       "      <td>0.559</td>\n",
       "    </tr>\n",
       "    <tr>\n",
       "      <th>cardiovascular</th>\n",
       "      <td>1.165</td>\n",
       "      <td>1.141</td>\n",
       "      <td>1.189</td>\n",
       "    </tr>\n",
       "    <tr>\n",
       "      <th>age</th>\n",
       "      <td>1.007</td>\n",
       "      <td>1.006</td>\n",
       "      <td>1.008</td>\n",
       "    </tr>\n",
       "    <tr>\n",
       "      <th>F</th>\n",
       "      <td>0.891</td>\n",
       "      <td>0.855</td>\n",
       "      <td>0.928</td>\n",
       "    </tr>\n",
       "    <tr>\n",
       "      <th>ASIAN</th>\n",
       "      <td>0.918</td>\n",
       "      <td>0.798</td>\n",
       "      <td>1.056</td>\n",
       "    </tr>\n",
       "    <tr>\n",
       "      <th>BLACK</th>\n",
       "      <td>0.878</td>\n",
       "      <td>0.803</td>\n",
       "      <td>0.959</td>\n",
       "    </tr>\n",
       "    <tr>\n",
       "      <th>HISPANIC</th>\n",
       "      <td>0.793</td>\n",
       "      <td>0.702</td>\n",
       "      <td>0.896</td>\n",
       "    </tr>\n",
       "    <tr>\n",
       "      <th>WHITE</th>\n",
       "      <td>0.836</td>\n",
       "      <td>0.789</td>\n",
       "      <td>0.887</td>\n",
       "    </tr>\n",
       "  </tbody>\n",
       "</table>\n",
       "</div>"
      ],
      "text/plain": [
       "                Odds Ratio   2.5%  97.5%\n",
       "daily_chl_load       0.999  0.999  0.999\n",
       "respiration          1.256  1.235  1.277\n",
       "coagulation          1.148  1.117  1.179\n",
       "liver                1.015  0.984  1.048\n",
       "cns                  0.976  0.955  0.996\n",
       "renal                0.546  0.534  0.559\n",
       "cardiovascular       1.165  1.141  1.189\n",
       "age                  1.007  1.006  1.008\n",
       "F                    0.891  0.855  0.928\n",
       "ASIAN                0.918  0.798  1.056\n",
       "BLACK                0.878  0.803  0.959\n",
       "HISPANIC             0.793  0.702  0.896\n",
       "WHITE                0.836  0.789  0.887"
      ]
     },
     "metadata": {},
     "output_type": "display_data"
    }
   ],
   "source": [
    "df_combined = pd.merge(df_chl_load.reset_index(),df_sofa_sub,on=['subject_id','hadm_id','icustay_id'])\n",
    "df_combined = pd.merge(df_combined.reset_index(),df_demo_adj.reset_index(),on=['subject_id','hadm_id'])\n",
    "df_combined = df_combined.drop(df_combined.columns[[0]], axis=1)\n",
    "df_combined = pd.merge(df_combined,df_aki,on=['icustay_id'])\n",
    "df_combined = df_combined.set_index(['subject_id','hadm_id','icustay_id'])\n",
    "run_glm(df_combined)"
   ]
  },
  {
   "cell_type": "code",
   "execution_count": null,
   "metadata": {},
   "outputs": [],
   "source": []
  }
 ],
 "metadata": {
  "kernelspec": {
   "display_name": "Python 3",
   "language": "python",
   "name": "python3"
  },
  "language_info": {
   "codemirror_mode": {
    "name": "ipython",
    "version": 3
   },
   "file_extension": ".py",
   "mimetype": "text/x-python",
   "name": "python",
   "nbconvert_exporter": "python",
   "pygments_lexer": "ipython3",
   "version": "3.6.7"
  }
 },
 "nbformat": 4,
 "nbformat_minor": 2
}
