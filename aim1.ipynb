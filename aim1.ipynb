{
 "cells": [
  {
   "cell_type": "code",
   "execution_count": 109,
   "metadata": {},
   "outputs": [],
   "source": [
    "import pandas as pd\n",
    "chlo = \"chloride.csv\"\n",
    "sofa = \"sofa_pan.csv\"\n",
    "mort = \"icu_mort.csv\"\n",
    "\n",
    "sofa = pd.read_csv(sofa)\n",
    "chl = pd.read_csv(chlo)\n",
    "mor = pd.read_csv(mort)"
   ]
  },
  {
   "cell_type": "code",
   "execution_count": 110,
   "metadata": {},
   "outputs": [],
   "source": [
    "# mortality\n",
    "mordf = mor[['icustay_id','in_icu_mort']]"
   ]
  },
  {
   "cell_type": "code",
   "execution_count": 111,
   "metadata": {},
   "outputs": [],
   "source": [
    "chldf = chl[['icustay_id','icu_day','chloride_max']]\n",
    "\n",
    "# chloride max level in 7 days\n",
    "chldf = chldf[chldf['icu_day']<=7]\n",
    "chl_max = chldf.groupby(['icustay_id'], sort=False)['chloride_max'].max()\n",
    "chl_max = pd.DataFrame(x).reset_index()\n",
    "chl_max = chl_max.dropna()"
   ]
  },
  {
   "cell_type": "code",
   "execution_count": 112,
   "metadata": {},
   "outputs": [],
   "source": [
    "# sofa\n",
    "sofadf = sofa[['icustay_id','day','sofa']]\n",
    "sofadf = sofadf[sofadf['day']==1]"
   ]
  },
  {
   "cell_type": "code",
   "execution_count": 113,
   "metadata": {
    "scrolled": true
   },
   "outputs": [],
   "source": [
    "df1 = pd.merge(chl_max, sofadf, on='icustay_id',how = 'inner')\n",
    "ChlMor = pd.merge(df1, mordf, on='icustay_id',how = 'inner')"
   ]
  },
  {
   "cell_type": "code",
   "execution_count": 114,
   "metadata": {},
   "outputs": [],
   "source": [
    "import numpy as np\n",
    "import pandas as pd\n",
    "import statsmodels.api as sm\n",
    "import statsmodels.formula.api as smf\n",
    "\n",
    "from IPython.display import display\n",
    "from scipy.stats import kruskal\n",
    "\n"
   ]
  },
  {
   "cell_type": "code",
   "execution_count": 115,
   "metadata": {},
   "outputs": [
    {
     "name": "stdout",
     "output_type": "stream",
     "text": [
      "                 Generalized Linear Model Regression Results                  \n",
      "==============================================================================\n",
      "Dep. Variable:            in_icu_mort   No. Observations:                48074\n",
      "Model:                            GLM   Df Residuals:                    48071\n",
      "Model Family:                Binomial   Df Model:                            2\n",
      "Link Function:                  logit   Scale:                             1.0\n",
      "Method:                          IRLS   Log-Likelihood:                -11054.\n",
      "Date:                Tue, 05 Feb 2019   Deviance:                       22108.\n",
      "Time:                        15:27:41   Pearson chi2:                 4.88e+04\n",
      "No. Iterations:                     6                                         \n",
      "================================================================================\n",
      "                   coef    std err          z      P>|z|      [0.025      0.975]\n",
      "--------------------------------------------------------------------------------\n",
      "Intercept       -7.8043      0.305    -25.579      0.000      -8.402      -7.206\n",
      "sofa             0.2692      0.005     52.730      0.000       0.259       0.279\n",
      "chloride_max     0.0362      0.003     12.968      0.000       0.031       0.042\n",
      "================================================================================\n"
     ]
    }
   ],
   "source": [
    "###  GLM -- in ICU Mortality ###\n",
    "glm = smf.glm('in_icu_mort~sofa + chloride_max', ChlMor,\n",
    "             family=sm.families.Binomial())\n",
    "result = glm.fit()\n",
    "print (result.summary())\n"
   ]
  },
  {
   "cell_type": "code",
   "execution_count": 116,
   "metadata": {},
   "outputs": [],
   "source": [
    "MODS_7 = pd.read_csv('MODS_7.csv')\n",
    "ChlM7 = pd.merge(df1, MODS_7, on='icustay_id',how = 'inner')"
   ]
  },
  {
   "cell_type": "code",
   "execution_count": 117,
   "metadata": {
    "scrolled": true
   },
   "outputs": [],
   "source": [
    "new_aki = pd.read_csv('newaki.csv')\n",
    "ChlAki = pd.merge(df1, new_aki, on='icustay_id',how = 'inner')"
   ]
  },
  {
   "cell_type": "code",
   "execution_count": 118,
   "metadata": {},
   "outputs": [
    {
     "name": "stdout",
     "output_type": "stream",
     "text": [
      "                 Generalized Linear Model Regression Results                  \n",
      "==============================================================================\n",
      "Dep. Variable:                 MODS_7   No. Observations:                48074\n",
      "Model:                            GLM   Df Residuals:                    48071\n",
      "Model Family:                Binomial   Df Model:                            2\n",
      "Link Function:                  logit   Scale:                             1.0\n",
      "Method:                          IRLS   Log-Likelihood:                -11121.\n",
      "Date:                Tue, 05 Feb 2019   Deviance:                       22242.\n",
      "Time:                        15:27:41   Pearson chi2:                 4.92e+04\n",
      "No. Iterations:                     6                                         \n",
      "================================================================================\n",
      "                   coef    std err          z      P>|z|      [0.025      0.975]\n",
      "--------------------------------------------------------------------------------\n",
      "Intercept       -4.9615      0.308    -16.107      0.000      -5.565      -4.358\n",
      "sofa             0.2483      0.005     49.037      0.000       0.238       0.258\n",
      "chloride_max     0.0110      0.003      3.848      0.000       0.005       0.017\n",
      "================================================================================\n"
     ]
    }
   ],
   "source": [
    "###  GLM -- MODS_7  ###\n",
    "glm = smf.glm('MODS_7~sofa + chloride_max', ChlM7,\n",
    "             family=sm.families.Binomial())\n",
    "result = glm.fit()\n",
    "print (result.summary())\n"
   ]
  },
  {
   "cell_type": "code",
   "execution_count": 119,
   "metadata": {},
   "outputs": [
    {
     "name": "stdout",
     "output_type": "stream",
     "text": [
      "                 Generalized Linear Model Regression Results                  \n",
      "==============================================================================\n",
      "Dep. Variable:                new_aki   No. Observations:                51537\n",
      "Model:                            GLM   Df Residuals:                    51534\n",
      "Model Family:                Binomial   Df Model:                            2\n",
      "Link Function:                  logit   Scale:                             1.0\n",
      "Method:                          IRLS   Log-Likelihood:                -24393.\n",
      "Date:                Tue, 05 Feb 2019   Deviance:                       48785.\n",
      "Time:                        15:27:41   Pearson chi2:                 5.13e+04\n",
      "No. Iterations:                     4                                         \n",
      "================================================================================\n",
      "                   coef    std err          z      P>|z|      [0.025      0.975]\n",
      "--------------------------------------------------------------------------------\n",
      "Intercept       -4.9678      0.197    -25.206      0.000      -5.354      -4.582\n",
      "sofa             0.1471      0.004     41.812      0.000       0.140       0.154\n",
      "chloride_max     0.0271      0.002     14.813      0.000       0.023       0.031\n",
      "================================================================================\n"
     ]
    }
   ],
   "source": [
    "###  GLM --NEWAKI ###\n",
    "glm = smf.glm('new_aki~sofa + chloride_max', ChlAki,\n",
    "             family=sm.families.Binomial())\n",
    "result = glm.fit()\n",
    "print (result.summary())\n"
   ]
  }
 ],
 "metadata": {
  "kernelspec": {
   "display_name": "Python 3",
   "language": "python",
   "name": "python3"
  },
  "language_info": {
   "codemirror_mode": {
    "name": "ipython",
    "version": 3
   },
   "file_extension": ".py",
   "mimetype": "text/x-python",
   "name": "python",
   "nbconvert_exporter": "python",
   "pygments_lexer": "ipython3",
   "version": "3.6.4"
  }
 },
 "nbformat": 4,
 "nbformat_minor": 2
}
